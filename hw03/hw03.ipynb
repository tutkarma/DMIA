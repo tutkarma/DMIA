{
  "nbformat": 4,
  "nbformat_minor": 0,
  "metadata": {
    "colab": {
      "name": "hw03.ipynb",
      "version": "0.3.2",
      "provenance": [],
      "toc_visible": true
    },
    "kernelspec": {
      "name": "python3",
      "display_name": "Python 3"
    },
    "accelerator": "GPU"
  },
  "cells": [
    {
      "cell_type": "code",
      "metadata": {
        "id": "J_vW6PvuqGOK",
        "colab_type": "code",
        "colab": {}
      },
      "source": [
        "import pandas as pd\n",
        "import numpy as np\n",
        "\n",
        "from sklearn.linear_model import LogisticRegression\n",
        "from sklearn.model_selection import train_test_split, cross_val_score\n",
        "from sklearn.metrics import roc_auc_score"
      ],
      "execution_count": 0,
      "outputs": []
    },
    {
      "cell_type": "markdown",
      "metadata": {
        "id": "I7GubJkAfm-d",
        "colab_type": "text"
      },
      "source": [
        "##Загружаем данные"
      ]
    },
    {
      "cell_type": "code",
      "metadata": {
        "id": "uHgqQdwIrORP",
        "colab_type": "code",
        "outputId": "c3fbcf14-1198-4590-c879-dab3e2a3a73f",
        "colab": {
          "base_uri": "https://localhost:8080/",
          "height": 156
        }
      },
      "source": [
        "train = pd.read_csv('./linear_train.txt', header=None, names=['word', 'target'])\n",
        "test = pd.read_csv('./linear_test.txt', header=None, names=['word'])\n",
        "sample = pd.read_csv('./linear_ans_example.txt')\n",
        "all_data = pd.concat([train , test])"
      ],
      "execution_count": 42,
      "outputs": [
        {
          "output_type": "stream",
          "text": [
            "/usr/local/lib/python3.6/dist-packages/ipykernel_launcher.py:4: FutureWarning: Sorting because non-concatenation axis is not aligned. A future version\n",
            "of pandas will change to not sort by default.\n",
            "\n",
            "To accept the future behavior, pass 'sort=False'.\n",
            "\n",
            "To retain the current behavior and silence the warning, pass 'sort=True'.\n",
            "\n",
            "  after removing the cwd from sys.path.\n"
          ],
          "name": "stderr"
        }
      ]
    },
    {
      "cell_type": "code",
      "metadata": {
        "id": "XX92ESRGrYyI",
        "colab_type": "code",
        "outputId": "71f1b207-36f9-46af-d9db-0fc5ada722ea",
        "colab": {
          "base_uri": "https://localhost:8080/",
          "height": 206
        }
      },
      "source": [
        "sample.head()"
      ],
      "execution_count": 3,
      "outputs": [
        {
          "output_type": "execute_result",
          "data": {
            "text/html": [
              "<div>\n",
              "<style scoped>\n",
              "    .dataframe tbody tr th:only-of-type {\n",
              "        vertical-align: middle;\n",
              "    }\n",
              "\n",
              "    .dataframe tbody tr th {\n",
              "        vertical-align: top;\n",
              "    }\n",
              "\n",
              "    .dataframe thead th {\n",
              "        text-align: right;\n",
              "    }\n",
              "</style>\n",
              "<table border=\"1\" class=\"dataframe\">\n",
              "  <thead>\n",
              "    <tr style=\"text-align: right;\">\n",
              "      <th></th>\n",
              "      <th>Id</th>\n",
              "      <th>Answer</th>\n",
              "    </tr>\n",
              "  </thead>\n",
              "  <tbody>\n",
              "    <tr>\n",
              "      <th>0</th>\n",
              "      <td>0</td>\n",
              "      <td>0.0</td>\n",
              "    </tr>\n",
              "    <tr>\n",
              "      <th>1</th>\n",
              "      <td>1</td>\n",
              "      <td>0.0</td>\n",
              "    </tr>\n",
              "    <tr>\n",
              "      <th>2</th>\n",
              "      <td>2</td>\n",
              "      <td>0.0</td>\n",
              "    </tr>\n",
              "    <tr>\n",
              "      <th>3</th>\n",
              "      <td>3</td>\n",
              "      <td>0.0</td>\n",
              "    </tr>\n",
              "    <tr>\n",
              "      <th>4</th>\n",
              "      <td>4</td>\n",
              "      <td>0.0</td>\n",
              "    </tr>\n",
              "  </tbody>\n",
              "</table>\n",
              "</div>"
            ],
            "text/plain": [
              "   Id  Answer\n",
              "0   0     0.0\n",
              "1   1     0.0\n",
              "2   2     0.0\n",
              "3   3     0.0\n",
              "4   4     0.0"
            ]
          },
          "metadata": {
            "tags": []
          },
          "execution_count": 3
        }
      ]
    },
    {
      "cell_type": "markdown",
      "metadata": {
        "id": "9phws4w3XNP4",
        "colab_type": "text"
      },
      "source": [
        "## Признаки"
      ]
    },
    {
      "cell_type": "code",
      "metadata": {
        "id": "vnmv809lr3YE",
        "colab_type": "code",
        "colab": {}
      },
      "source": [
        "vowels = 'аоэиуыеёюя'\n",
        "consonant = 'бвгджзйклмнпрстфхцчшщьъ'\n",
        "alphabet = set(vowels) | set(consonant)\n",
        "\n",
        "\n",
        "def vowels_count(word):\n",
        "    cnt = 0\n",
        "    for i in word.lower():\n",
        "        if i in vowels:\n",
        "          cnt += 1\n",
        "    return cnt\n",
        "  \n",
        "  \n",
        "def consonant_count(word):\n",
        "    return len(word) - vowels_count(word)\n",
        "\n",
        "  \n",
        "def divide_vow_by_cons(x):\n",
        "    return vowels_count(x) / (consonant_count(x) + 1e-3)\n",
        "\n",
        "  \n",
        "def all_symbols(words):\n",
        "    res = set()\n",
        "    for w in words:\n",
        "        res.update(list(w.lower()))\n",
        "    return res\n",
        "  \n",
        "  \n",
        "bad_symbols = all_symbols(all_data.word.values) ^ alphabet\n",
        "  \n",
        "  \n",
        "def bad_count(word):\n",
        "    cnt = 0\n",
        "    for i in word.lower():\n",
        "        if i in bad_symbols:\n",
        "            cnt += 1\n",
        "    return cnt"
      ],
      "execution_count": 0,
      "outputs": []
    },
    {
      "cell_type": "code",
      "metadata": {
        "id": "pX-tUj7l2hQp",
        "colab_type": "code",
        "colab": {}
      },
      "source": [
        "func = [str.isupper, str.istitle, len, vowels_count, consonant_count, divide_vow_by_cons, bad_count]\n",
        "columns = ['isupper', 'istitle', 'len', 'vowels', 'consonant', 'divide_vow_by_cons', 'bad_count']\n",
        "for f, col in zip(func, columns):\n",
        "    all_data[col] = all_data['word'].apply(f)\n",
        "all_data['is_duplicate'] = all_data['word'].duplicated(keep=False)"
      ],
      "execution_count": 0,
      "outputs": []
    },
    {
      "cell_type": "code",
      "metadata": {
        "id": "grcNd-CY3q2i",
        "colab_type": "code",
        "outputId": "3c5e3dd5-6e20-4e5a-8af0-4942e4c9e940",
        "colab": {
          "base_uri": "https://localhost:8080/",
          "height": 206
        }
      },
      "source": [
        "all_data.head()"
      ],
      "execution_count": 45,
      "outputs": [
        {
          "output_type": "execute_result",
          "data": {
            "text/html": [
              "<div>\n",
              "<style scoped>\n",
              "    .dataframe tbody tr th:only-of-type {\n",
              "        vertical-align: middle;\n",
              "    }\n",
              "\n",
              "    .dataframe tbody tr th {\n",
              "        vertical-align: top;\n",
              "    }\n",
              "\n",
              "    .dataframe thead th {\n",
              "        text-align: right;\n",
              "    }\n",
              "</style>\n",
              "<table border=\"1\" class=\"dataframe\">\n",
              "  <thead>\n",
              "    <tr style=\"text-align: right;\">\n",
              "      <th></th>\n",
              "      <th>target</th>\n",
              "      <th>word</th>\n",
              "      <th>isupper</th>\n",
              "      <th>istitle</th>\n",
              "      <th>len</th>\n",
              "      <th>vowels</th>\n",
              "      <th>consonant</th>\n",
              "      <th>divide_vow_by_cons</th>\n",
              "      <th>bad_count</th>\n",
              "      <th>is_duplicate</th>\n",
              "    </tr>\n",
              "  </thead>\n",
              "  <tbody>\n",
              "    <tr>\n",
              "      <th>0</th>\n",
              "      <td>1.0</td>\n",
              "      <td>Аалтонен</td>\n",
              "      <td>False</td>\n",
              "      <td>True</td>\n",
              "      <td>8</td>\n",
              "      <td>4</td>\n",
              "      <td>4</td>\n",
              "      <td>0.999750</td>\n",
              "      <td>0</td>\n",
              "      <td>False</td>\n",
              "    </tr>\n",
              "    <tr>\n",
              "      <th>1</th>\n",
              "      <td>0.0</td>\n",
              "      <td>Аар</td>\n",
              "      <td>False</td>\n",
              "      <td>True</td>\n",
              "      <td>3</td>\n",
              "      <td>2</td>\n",
              "      <td>1</td>\n",
              "      <td>1.998002</td>\n",
              "      <td>0</td>\n",
              "      <td>False</td>\n",
              "    </tr>\n",
              "    <tr>\n",
              "      <th>2</th>\n",
              "      <td>0.0</td>\n",
              "      <td>Аарон</td>\n",
              "      <td>False</td>\n",
              "      <td>True</td>\n",
              "      <td>5</td>\n",
              "      <td>3</td>\n",
              "      <td>2</td>\n",
              "      <td>1.499250</td>\n",
              "      <td>0</td>\n",
              "      <td>True</td>\n",
              "    </tr>\n",
              "    <tr>\n",
              "      <th>3</th>\n",
              "      <td>0.0</td>\n",
              "      <td>ААРОН</td>\n",
              "      <td>True</td>\n",
              "      <td>False</td>\n",
              "      <td>5</td>\n",
              "      <td>3</td>\n",
              "      <td>2</td>\n",
              "      <td>1.499250</td>\n",
              "      <td>0</td>\n",
              "      <td>False</td>\n",
              "    </tr>\n",
              "    <tr>\n",
              "      <th>4</th>\n",
              "      <td>0.0</td>\n",
              "      <td>Аарона</td>\n",
              "      <td>False</td>\n",
              "      <td>True</td>\n",
              "      <td>6</td>\n",
              "      <td>4</td>\n",
              "      <td>2</td>\n",
              "      <td>1.999000</td>\n",
              "      <td>0</td>\n",
              "      <td>True</td>\n",
              "    </tr>\n",
              "  </tbody>\n",
              "</table>\n",
              "</div>"
            ],
            "text/plain": [
              "   target      word  isupper  istitle  len  vowels  consonant  \\\n",
              "0     1.0  Аалтонен    False     True    8       4          4   \n",
              "1     0.0       Аар    False     True    3       2          1   \n",
              "2     0.0     Аарон    False     True    5       3          2   \n",
              "3     0.0     ААРОН     True    False    5       3          2   \n",
              "4     0.0    Аарона    False     True    6       4          2   \n",
              "\n",
              "   divide_vow_by_cons  bad_count  is_duplicate  \n",
              "0            0.999750          0         False  \n",
              "1            1.998002          0         False  \n",
              "2            1.499250          0          True  \n",
              "3            1.499250          0         False  \n",
              "4            1.999000          0          True  "
            ]
          },
          "metadata": {
            "tags": []
          },
          "execution_count": 45
        }
      ]
    },
    {
      "cell_type": "code",
      "metadata": {
        "id": "wkwXa3qX31fc",
        "colab_type": "code",
        "outputId": "03815f2d-d319-4e8b-ba2f-40e0a25a6bd3",
        "colab": {
          "base_uri": "https://localhost:8080/",
          "height": 419
        }
      },
      "source": [
        "def validate(x, y):\n",
        "    model = LogisticRegression()\n",
        "    score = cross_val_score(model, x, y, scoring='roc_auc', cv=10)\n",
        "    print(score.mean(), score.std() , '\\n')\n",
        "\n",
        "new_train = all_data[all_data['target'].notnull()]\n",
        "validate(new_train.drop(['target', 'word' ], axis=1), new_train['target'])"
      ],
      "execution_count": 46,
      "outputs": [
        {
          "output_type": "stream",
          "text": [
            "/usr/local/lib/python3.6/dist-packages/sklearn/linear_model/logistic.py:433: FutureWarning: Default solver will be changed to 'lbfgs' in 0.22. Specify a solver to silence this warning.\n",
            "  FutureWarning)\n",
            "/usr/local/lib/python3.6/dist-packages/sklearn/linear_model/logistic.py:433: FutureWarning: Default solver will be changed to 'lbfgs' in 0.22. Specify a solver to silence this warning.\n",
            "  FutureWarning)\n",
            "/usr/local/lib/python3.6/dist-packages/sklearn/linear_model/logistic.py:433: FutureWarning: Default solver will be changed to 'lbfgs' in 0.22. Specify a solver to silence this warning.\n",
            "  FutureWarning)\n",
            "/usr/local/lib/python3.6/dist-packages/sklearn/linear_model/logistic.py:433: FutureWarning: Default solver will be changed to 'lbfgs' in 0.22. Specify a solver to silence this warning.\n",
            "  FutureWarning)\n",
            "/usr/local/lib/python3.6/dist-packages/sklearn/linear_model/logistic.py:433: FutureWarning: Default solver will be changed to 'lbfgs' in 0.22. Specify a solver to silence this warning.\n",
            "  FutureWarning)\n",
            "/usr/local/lib/python3.6/dist-packages/sklearn/linear_model/logistic.py:433: FutureWarning: Default solver will be changed to 'lbfgs' in 0.22. Specify a solver to silence this warning.\n",
            "  FutureWarning)\n",
            "/usr/local/lib/python3.6/dist-packages/sklearn/linear_model/logistic.py:433: FutureWarning: Default solver will be changed to 'lbfgs' in 0.22. Specify a solver to silence this warning.\n",
            "  FutureWarning)\n",
            "/usr/local/lib/python3.6/dist-packages/sklearn/linear_model/logistic.py:433: FutureWarning: Default solver will be changed to 'lbfgs' in 0.22. Specify a solver to silence this warning.\n",
            "  FutureWarning)\n",
            "/usr/local/lib/python3.6/dist-packages/sklearn/linear_model/logistic.py:433: FutureWarning: Default solver will be changed to 'lbfgs' in 0.22. Specify a solver to silence this warning.\n",
            "  FutureWarning)\n",
            "/usr/local/lib/python3.6/dist-packages/sklearn/linear_model/logistic.py:433: FutureWarning: Default solver will be changed to 'lbfgs' in 0.22. Specify a solver to silence this warning.\n",
            "  FutureWarning)\n"
          ],
          "name": "stderr"
        },
        {
          "output_type": "stream",
          "text": [
            "0.8632292658463273 0.020836241924790274 \n",
            "\n"
          ],
          "name": "stdout"
        }
      ]
    },
    {
      "cell_type": "markdown",
      "metadata": {
        "id": "2C43WRH0m_k1",
        "colab_type": "text"
      },
      "source": [
        "## pymorphy"
      ]
    },
    {
      "cell_type": "code",
      "metadata": {
        "id": "cL7R57NKoHEr",
        "colab_type": "code",
        "colab": {
          "base_uri": "https://localhost:8080/",
          "height": 86
        },
        "outputId": "271e2aab-e9f7-4f2e-82ec-4f8880ce2699"
      },
      "source": [
        "!pip install pymorphy2"
      ],
      "execution_count": 48,
      "outputs": [
        {
          "output_type": "stream",
          "text": [
            "Requirement already satisfied: pymorphy2 in /usr/local/lib/python3.6/dist-packages (0.8)\n",
            "Requirement already satisfied: docopt>=0.6 in /usr/local/lib/python3.6/dist-packages (from pymorphy2) (0.6.2)\n",
            "Requirement already satisfied: pymorphy2-dicts<3.0,>=2.4 in /usr/local/lib/python3.6/dist-packages (from pymorphy2) (2.4.393442.3710985)\n",
            "Requirement already satisfied: dawg-python>=0.7 in /usr/local/lib/python3.6/dist-packages (from pymorphy2) (0.7.2)\n"
          ],
          "name": "stdout"
        }
      ]
    },
    {
      "cell_type": "code",
      "metadata": {
        "id": "-Jq85CgHuqtC",
        "colab_type": "code",
        "colab": {}
      },
      "source": [
        "from sklearn.preprocessing import LabelEncoder\n",
        "import pymorphy2"
      ],
      "execution_count": 0,
      "outputs": []
    },
    {
      "cell_type": "code",
      "metadata": {
        "id": "ewk5k5ZNus52",
        "colab_type": "code",
        "colab": {}
      },
      "source": [
        "morph = pymorphy2.MorphAnalyzer()"
      ],
      "execution_count": 0,
      "outputs": []
    },
    {
      "cell_type": "code",
      "metadata": {
        "id": "3qRk1ZcruwW2",
        "colab_type": "code",
        "colab": {}
      },
      "source": [
        "all_data['pm'] = all_data['word'].apply(lambda x: morph.tag(x)[0])\n",
        "all_data['pm_animacy'] = all_data['pm'].apply(lambda x: x.animacy)\n",
        "all_data['pm_POS'] = all_data['pm'].apply(lambda x: x.POS)\n",
        "all_data['pm_case'] = all_data['pm'].apply(lambda x: x.case)\n",
        "all_data['pm_number'] = all_data['pm'].apply(lambda x: x.number)\n",
        "all_data['pm_gender'] = all_data['pm'].apply(lambda x: x.gender)"
      ],
      "execution_count": 0,
      "outputs": []
    },
    {
      "cell_type": "code",
      "metadata": {
        "id": "HYAhK6kOxGPE",
        "colab_type": "code",
        "colab": {}
      },
      "source": [
        "cat_features = ['pm', 'pm_animacy', 'pm_POS', 'pm_case', 'pm_number', 'pm_gender']\n",
        "\n",
        "for col in cat_features:\n",
        "    all_data[col] = LabelEncoder().fit_transform(list(all_data[col].fillna('nan')))"
      ],
      "execution_count": 0,
      "outputs": []
    },
    {
      "cell_type": "code",
      "metadata": {
        "id": "SsCHi8MYxRyH",
        "colab_type": "code",
        "colab": {
          "base_uri": "https://localhost:8080/",
          "height": 454
        },
        "outputId": "684da2dc-a261-4199-b6c7-c7a7b407d2b8"
      },
      "source": [
        "new_train = all_data[all_data['target'].notnull()]\n",
        "validate(new_train.drop(['target', 'word' ], axis=1), new_train['target'])"
      ],
      "execution_count": 26,
      "outputs": [
        {
          "output_type": "stream",
          "text": [
            "/usr/local/lib/python3.6/dist-packages/sklearn/linear_model/logistic.py:433: FutureWarning: Default solver will be changed to 'lbfgs' in 0.22. Specify a solver to silence this warning.\n",
            "  FutureWarning)\n",
            "/usr/local/lib/python3.6/dist-packages/sklearn/linear_model/logistic.py:433: FutureWarning: Default solver will be changed to 'lbfgs' in 0.22. Specify a solver to silence this warning.\n",
            "  FutureWarning)\n",
            "/usr/local/lib/python3.6/dist-packages/sklearn/linear_model/logistic.py:433: FutureWarning: Default solver will be changed to 'lbfgs' in 0.22. Specify a solver to silence this warning.\n",
            "  FutureWarning)\n",
            "/usr/local/lib/python3.6/dist-packages/sklearn/linear_model/logistic.py:433: FutureWarning: Default solver will be changed to 'lbfgs' in 0.22. Specify a solver to silence this warning.\n",
            "  FutureWarning)\n",
            "/usr/local/lib/python3.6/dist-packages/sklearn/svm/base.py:931: ConvergenceWarning: Liblinear failed to converge, increase the number of iterations.\n",
            "  \"the number of iterations.\", ConvergenceWarning)\n",
            "/usr/local/lib/python3.6/dist-packages/sklearn/linear_model/logistic.py:433: FutureWarning: Default solver will be changed to 'lbfgs' in 0.22. Specify a solver to silence this warning.\n",
            "  FutureWarning)\n",
            "/usr/local/lib/python3.6/dist-packages/sklearn/linear_model/logistic.py:433: FutureWarning: Default solver will be changed to 'lbfgs' in 0.22. Specify a solver to silence this warning.\n",
            "  FutureWarning)\n",
            "/usr/local/lib/python3.6/dist-packages/sklearn/linear_model/logistic.py:433: FutureWarning: Default solver will be changed to 'lbfgs' in 0.22. Specify a solver to silence this warning.\n",
            "  FutureWarning)\n",
            "/usr/local/lib/python3.6/dist-packages/sklearn/linear_model/logistic.py:433: FutureWarning: Default solver will be changed to 'lbfgs' in 0.22. Specify a solver to silence this warning.\n",
            "  FutureWarning)\n",
            "/usr/local/lib/python3.6/dist-packages/sklearn/linear_model/logistic.py:433: FutureWarning: Default solver will be changed to 'lbfgs' in 0.22. Specify a solver to silence this warning.\n",
            "  FutureWarning)\n",
            "/usr/local/lib/python3.6/dist-packages/sklearn/linear_model/logistic.py:433: FutureWarning: Default solver will be changed to 'lbfgs' in 0.22. Specify a solver to silence this warning.\n",
            "  FutureWarning)\n"
          ],
          "name": "stderr"
        },
        {
          "output_type": "stream",
          "text": [
            "0.8939123687913136 0.015942569532318044 \n",
            "\n"
          ],
          "name": "stdout"
        }
      ]
    },
    {
      "cell_type": "markdown",
      "metadata": {
        "id": "HFAE7XLanJTd",
        "colab_type": "text"
      },
      "source": [
        "## TF-IDF"
      ]
    },
    {
      "cell_type": "code",
      "metadata": {
        "id": "p5UQOPkZvqVB",
        "colab_type": "code",
        "colab": {}
      },
      "source": [
        "from sklearn.feature_extraction.text import CountVectorizer, TfidfTransformer\n",
        "from sklearn.model_selection import StratifiedKFold\n",
        "from xgboost import XGBClassifier"
      ],
      "execution_count": 0,
      "outputs": []
    },
    {
      "cell_type": "code",
      "metadata": {
        "id": "cFPhFcA8Fa8e",
        "colab_type": "code",
        "colab": {}
      },
      "source": [
        "bigram_vectorizer = CountVectorizer(analyzer='char_wb', ngram_range=(1,10), max_features = 100, encoding='utf8')\n",
        "for_tf_idf = bigram_vectorizer.fit_transform(all_data.word.apply(str.lower).tolist())\n",
        "tfidf_sparse = TfidfTransformer().fit_transform(for_tf_idf)"
      ],
      "execution_count": 0,
      "outputs": []
    },
    {
      "cell_type": "code",
      "metadata": {
        "id": "adgNOhJ8FdJX",
        "colab_type": "code",
        "colab": {}
      },
      "source": [
        "tfidf = pd.DataFrame(tfidf_sparse.toarray(), index=all_data.index, columns=['tf_idf_' + str(i) for i in range(tfidf_sparse.shape[1])])"
      ],
      "execution_count": 0,
      "outputs": []
    },
    {
      "cell_type": "code",
      "metadata": {
        "id": "PVARrXuuFyJt",
        "colab_type": "code",
        "colab": {}
      },
      "source": [
        "tfidf = pd.concat([all_data, tfidf], axis=1)"
      ],
      "execution_count": 0,
      "outputs": []
    },
    {
      "cell_type": "code",
      "metadata": {
        "id": "C3TLCrp_F0Hf",
        "colab_type": "code",
        "colab": {}
      },
      "source": [
        "def validate(x , y):\n",
        "    model = XGBClassifier(max_depth = 10, n_estimators=670, learning_rate=0.09, colsample_bytree=0.9, colsample_bylevel=0.6)\n",
        "    cv = StratifiedKFold(4, shuffle=True, random_state=99)\n",
        "    score = cross_val_score(model, x, y, scoring='roc_auc', cv=cv)\n",
        "    print(score.mean(), score.std(), '\\n')"
      ],
      "execution_count": 0,
      "outputs": []
    },
    {
      "cell_type": "code",
      "metadata": {
        "id": "ONEguDEEJdnP",
        "colab_type": "code",
        "colab": {
          "base_uri": "https://localhost:8080/",
          "height": 52
        },
        "outputId": "3309ceba-f266-4582-e4ae-e45ee85d40d9"
      },
      "source": [
        "new_tfidf = tfidf[tfidf['target'].notnull()]\n",
        "validate(new_tfidf.drop(['target', 'word' ], axis=1), new_train['target'])"
      ],
      "execution_count": 58,
      "outputs": [
        {
          "output_type": "stream",
          "text": [
            "0.9591002034967829 0.00127796518267774 \n",
            "\n"
          ],
          "name": "stdout"
        }
      ]
    },
    {
      "cell_type": "code",
      "metadata": {
        "id": "Kr0r8YHfQx9m",
        "colab_type": "code",
        "colab": {}
      },
      "source": [
        "new_train = tfidf[tfidf['target'].notnull()]\n",
        "new_test = tfidf[tfidf['target'].isnull()]\n",
        "\n",
        "model = XGBClassifier(max_depth = 10, n_estimators=670, learning_rate=0.09, colsample_bytree=0.9, colsample_bylevel=0.6)\n",
        "model.fit(new_train.drop(['target', 'word'] , axis=1) , new_train['target'])\n",
        "sample['Answer'] = model.predict_proba(new_test.drop(['word', 'target'] , axis=1))[:,1]\n",
        "\n",
        "sample.to_csv('./submit.csv', index=False)"
      ],
      "execution_count": 0,
      "outputs": []
    },
    {
      "cell_type": "code",
      "metadata": {
        "id": "ki2PqaN9zUX4",
        "colab_type": "code",
        "colab": {}
      },
      "source": [
        ""
      ],
      "execution_count": 0,
      "outputs": []
    }
  ]
}