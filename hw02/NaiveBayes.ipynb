{
  "nbformat": 4,
  "nbformat_minor": 0,
  "metadata": {
    "colab": {
      "name": "NaiveBayes.ipynb",
      "version": "0.3.2",
      "provenance": []
    },
    "kernelspec": {
      "name": "python3",
      "display_name": "Python 3"
    },
    "accelerator": "GPU"
  },
  "cells": [
    {
      "cell_type": "markdown",
      "metadata": {
        "id": "IAYXrD-v4cHf",
        "colab_type": "text"
      },
      "source": [
        "# Реализуем методы для наивного байеса"
      ]
    },
    {
      "cell_type": "markdown",
      "metadata": {
        "id": "nS0ZFOS94cHo",
        "colab_type": "text"
      },
      "source": [
        "Сгенерируем выборку, в которой каждый признак имеет некоторое своё распределение, параметры которого отличаются для каждого класса. Затем реализуем несколько методов для класса, который уже частично написан ниже:\n",
        "- метод predict\n",
        "- метод \\_find\\_expon\\_params и \\_get\\_expon\\_density для экспоненциального распределения\n",
        "- метод \\_find\\_norm\\_params и \\_get\\_norm\\_probability для биномиального распределения\n",
        "\n",
        "Для имплементации \\_find\\_something\\_params изучите документацию функций для работы с этими распределениями в scipy.stats и используйте предоставленные там методы."
      ]
    },
    {
      "cell_type": "code",
      "metadata": {
        "id": "ybeUJk9s4cHt",
        "colab_type": "code",
        "colab": {}
      },
      "source": [
        "import numpy as np\n",
        "import scipy\n",
        "import scipy.stats"
      ],
      "execution_count": 0,
      "outputs": []
    },
    {
      "cell_type": "markdown",
      "metadata": {
        "id": "Lbv6PFF04cH_",
        "colab_type": "text"
      },
      "source": [
        "Сформируем параметры генерации для трех датасетов"
      ]
    },
    {
      "cell_type": "code",
      "metadata": {
        "id": "otpqkQmz4cIG",
        "colab_type": "code",
        "outputId": "7a2aa348-02d0-4dab-b992-ae21215ec3a7",
        "colab": {
          "base_uri": "https://localhost:8080/",
          "height": 34
        }
      },
      "source": [
        "func_params_set0 = [(scipy.stats.bernoulli, [dict(p=0.1), dict(p=0.5)]),\n",
        "                   ]\n",
        "\n",
        "func_params_set1 = [(scipy.stats.bernoulli, [dict(p=0.1), dict(p=0.5)]),\n",
        "                    (scipy.stats.expon, [dict(scale=1), dict(scale=0.3)]),\n",
        "                   ]\n",
        "\n",
        "func_params_set2 = [(scipy.stats.bernoulli, [dict(p=0.1), dict(p=0.5)]),\n",
        "                    (scipy.stats.expon, [dict(scale=1), dict(scale=0.3)]),\n",
        "                    (scipy.stats.norm, [dict(loc=0, scale=1), dict(loc=1, scale=2)]),\n",
        "                   ]\n",
        "\n",
        "def generate_dataset_for_nb(func_params_set=[], size = 2500, random_seed=0):\n",
        "    '''\n",
        "    Генерирует выборку с заданными параметрами распределений P(x|y).\n",
        "    Число классов задается длиной списка с параметрами.\n",
        "    Возвращает X, y, список с названиями распределений\n",
        "    '''\n",
        "    np.random.seed(random_seed)\n",
        "\n",
        "    X = []\n",
        "    names = []\n",
        "    for func, params in func_params_set:\n",
        "        names.append(func.name)\n",
        "        f = []\n",
        "        for i, param in enumerate(params):\n",
        "            f.append(func.rvs(size=size, **param))\n",
        "        f = np.concatenate(f).reshape(-1,1)\n",
        "        X.append(f)\n",
        "\n",
        "    X = np.concatenate(X, 1)\n",
        "    y = np.array([0] * size + [1] * size)\n",
        "\n",
        "    shuffle_inds = np.random.choice(range(len(X)), size=len(X), replace=False)\n",
        "    X = X[shuffle_inds]\n",
        "    y = y[shuffle_inds]\n",
        "\n",
        "    return X, y, names \n",
        "\n",
        "X, y, distrubution_names = generate_dataset_for_nb(func_params_set0)\n",
        "X.shape, y.shape, distrubution_names"
      ],
      "execution_count": 13,
      "outputs": [
        {
          "output_type": "execute_result",
          "data": {
            "text/plain": [
              "((5000, 1), (5000,), ['bernoulli'])"
            ]
          },
          "metadata": {
            "tags": []
          },
          "execution_count": 13
        }
      ]
    },
    {
      "cell_type": "code",
      "metadata": {
        "id": "Tapd4tYr4cId",
        "colab_type": "code",
        "colab": {}
      },
      "source": [
        "from collections import defaultdict\n",
        "from sklearn.base import BaseEstimator, ClassifierMixin\n",
        "\n",
        "class NaiveBayes(BaseEstimator, ClassifierMixin):\n",
        "    '''\n",
        "    Реализация наивного байеса, которая помимо X, y\n",
        "    принимает на вход во время обучения \n",
        "    виды распределений значений признаков\n",
        "    '''\n",
        "    def __init__(self):\n",
        "        pass\n",
        "    \n",
        "    def _find_bernoulli_params(self, x):\n",
        "        '''\n",
        "        метод возвращает найденный параметр `p`\n",
        "        распределения scipy.stats.bernoulli\n",
        "        '''\n",
        "        return dict(p=np.mean(x))\n",
        "    \n",
        "    def _get_bernoulli_probability(self, x, params):\n",
        "        '''\n",
        "        метод возвращает вероятность x для данных\n",
        "        параметров распределния\n",
        "        '''\n",
        "        return scipy.stats.bernoulli.pmf(x, **params)\n",
        "\n",
        "    def _find_expon_params(self, x):\n",
        "        loc, scale = scipy.stats.expon.fit(x)\n",
        "        return dict(scale=scale, loc=loc)\n",
        "    \n",
        "    def _get_expon_density(self, x, params):\n",
        "        return scipy.stats.expon.pdf(x, **params)\n",
        "\n",
        "    def _find_norm_params(self, x):\n",
        "        # нужно определить параметры распределения\n",
        "        # и вернуть их\n",
        "        loc, scale = scipy.stats.norm.fit(x)\n",
        "        return dict(loc=loc, scale=scale)\n",
        "    \n",
        "    def _get_norm_density(self, x, params):\n",
        "        # нужно вернуть плотность распределения в x\n",
        "        return scipy.stats.norm.pdf(x, **params)\n",
        "\n",
        "    def _get_params(self, x, distribution):\n",
        "        '''\n",
        "        x - значения из распределения,\n",
        "        distribution - название распределения в scipy.stats\n",
        "        '''\n",
        "        if distribution == 'bernoulli':\n",
        "            return self._find_bernoulli_params(x)\n",
        "        elif distribution == 'expon':\n",
        "            return self._find_expon_params(x)\n",
        "        elif distribution == 'norm':\n",
        "            return self._find_norm_params(x)\n",
        "        else:\n",
        "            raise NotImplementedError('Unknown distribution')\n",
        "            \n",
        "    def _get_probability_or_density(self, x, distribution, params):\n",
        "        '''\n",
        "        x - значения,\n",
        "        distribytion - название распределения в scipy.stats,\n",
        "        params - параметры распределения\n",
        "        '''\n",
        "        if distribution == 'bernoulli':\n",
        "            return self._get_bernoulli_probability(x, params)\n",
        "        elif distribution == 'expon':\n",
        "            return self._get_expon_density(x, params)\n",
        "        elif distribution == 'norm':\n",
        "            return self._get_norm_density(x, params)\n",
        "        else:\n",
        "            raise NotImplementedError('Unknown distribution')\n",
        "\n",
        "    def fit(self, X, y, distrubution_names):\n",
        "        '''\n",
        "        X - обучающая выборка,\n",
        "        y - целевая переменная,\n",
        "        feature_distributions - список названий распределений, \n",
        "        по которым предположительно распределны значения P(x|y)\n",
        "        ''' \n",
        "        assert X.shape[1] == len(distrubution_names)\n",
        "        assert set(y) == {0, 1}\n",
        "        self.n_classes = len(np.unique(y))\n",
        "        self.distrubution_names = distrubution_names\n",
        "        \n",
        "        self.y_prior = [(y == j).mean() for j in range(self.n_classes)]\n",
        "        \n",
        "        self.distributions_params = defaultdict(dict)\n",
        "        for i in range(X.shape[1]):\n",
        "            distribution = self.distrubution_names[i]\n",
        "            for j in range(self.n_classes):\n",
        "                values = X[y == j, i]\n",
        "                self.distributions_params[j][i] = \\\n",
        "                    self._get_params(values, distribution)\n",
        "        \n",
        "        return self.distributions_params\n",
        "    \n",
        "    def predict(self, X):\n",
        "        '''\n",
        "        X - тестовая выборка\n",
        "        '''\n",
        "        assert X.shape[1] == len(self.distrubution_names)\n",
        "        \n",
        "        # нужно реализовать подсчет аргмаксной формулы, по которой \n",
        "        # наивный байес принимает решение о принадлежности объекта классу\n",
        "        # и применить её для каждого объекта в X\n",
        "        #\n",
        "        # примечание: обычно подсчет этой формулы реализуют через \n",
        "        # её логарифмирование, то есть, через сумму логарифмов вероятностей, \n",
        "        # поскольку перемножение достаточно малых вероятностей будет вести\n",
        "        # к вычислительным неточностям\n",
        "        \n",
        "        samples, _ = X.shape\n",
        "        class_probabilities = np.zeros((samples, self.n_classes))\n",
        "        \n",
        "        for i in range(self.n_classes):            \n",
        "            probs = np.ones(samples)\n",
        "            \n",
        "            for j in range(len(self.distrubution_names)):\n",
        "                distribution = self.distrubution_names[j]\n",
        "                values = X[:, j]\n",
        "\n",
        "                params = self.distributions_params[i][j]\n",
        "                probs *= self._get_probability_or_density(values, distribution, params) / self.y_prior[i]\n",
        "                \n",
        "            probs /= self.y_prior[i]\n",
        "            class_probabilities[:, i] = probs\n",
        "            \n",
        "        preds = class_probabilities.argmax(axis = 1)\n",
        "        return preds\n",
        "        "
      ],
      "execution_count": 0,
      "outputs": []
    },
    {
      "cell_type": "markdown",
      "metadata": {
        "id": "xF9EVehw4cIl",
        "colab_type": "text"
      },
      "source": [
        "Проверим результат на примере первого распределения"
      ]
    },
    {
      "cell_type": "code",
      "metadata": {
        "id": "1K3xyJPu4cIp",
        "colab_type": "code",
        "outputId": "83e27459-f8ff-4f73-86ac-2f8d2a1abc3a",
        "colab": {
          "base_uri": "https://localhost:8080/",
          "height": 34
        }
      },
      "source": [
        "nb = NaiveBayes()\n",
        "nb.fit(X, y, ['bernoulli'])"
      ],
      "execution_count": 17,
      "outputs": [
        {
          "output_type": "execute_result",
          "data": {
            "text/plain": [
              "defaultdict(dict, {0: {0: {'p': 0.1128}}, 1: {0: {'p': 0.482}}})"
            ]
          },
          "metadata": {
            "tags": []
          },
          "execution_count": 17
        }
      ]
    },
    {
      "cell_type": "code",
      "metadata": {
        "id": "9k7bIyM74cIy",
        "colab_type": "code",
        "outputId": "df75ef04-bdcd-415f-c839-48244cbb4b21",
        "colab": {
          "base_uri": "https://localhost:8080/",
          "height": 34
        }
      },
      "source": [
        "from sklearn.metrics import f1_score\n",
        "\n",
        "prediction = nb.predict(X)\n",
        "score = f1_score(y, prediction)\n",
        "print('{:.2f}'.format(score))"
      ],
      "execution_count": 18,
      "outputs": [
        {
          "output_type": "stream",
          "text": [
            "0.60\n"
          ],
          "name": "stdout"
        }
      ]
    },
    {
      "cell_type": "markdown",
      "metadata": {
        "id": "6AU3EFFI4cJB",
        "colab_type": "text"
      },
      "source": [
        "# Ответы для формы"
      ]
    },
    {
      "cell_type": "markdown",
      "metadata": {
        "id": "CYPvq8AL4cJG",
        "colab_type": "text"
      },
      "source": [
        "Ответом для формы должны служить числа, которые будут выведены ниже. Все ответы проверены: в этих примерах получается одинаковый результат и через сумму логарифмов, и через произведение вероятностей."
      ]
    },
    {
      "cell_type": "code",
      "metadata": {
        "id": "87o1Fkm94cJL",
        "colab_type": "code",
        "outputId": "bb99b377-ff7b-4d93-870b-78bb75d74a27",
        "colab": {
          "base_uri": "https://localhost:8080/",
          "height": 69
        }
      },
      "source": [
        "scipy.stats.bernoulli.name\n",
        "\n",
        "for fps in (func_params_set0 * 2,\n",
        "            func_params_set1, \n",
        "            func_params_set2):\n",
        "    \n",
        "\n",
        "    X, y, distrubution_names = generate_dataset_for_nb(fps)\n",
        "    \n",
        "    nb = NaiveBayes()\n",
        "    nb.fit(X, y, distrubution_names)\n",
        "    prediction = nb.predict(X)\n",
        "    score = f1_score(y, prediction)\n",
        "    print('{:.2f}'.format(score))"
      ],
      "execution_count": 19,
      "outputs": [
        {
          "output_type": "stream",
          "text": [
            "0.76\n",
            "0.75\n",
            "0.79\n"
          ],
          "name": "stdout"
        }
      ]
    },
    {
      "cell_type": "code",
      "metadata": {
        "id": "d9m9GVT54cJb",
        "colab_type": "code",
        "colab": {}
      },
      "source": [
        ""
      ],
      "execution_count": 0,
      "outputs": []
    }
  ]
}