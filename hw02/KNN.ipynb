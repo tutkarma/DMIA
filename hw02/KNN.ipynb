{
  "nbformat": 4,
  "nbformat_minor": 0,
  "metadata": {
    "colab": {
      "name": "KNN.ipynb",
      "version": "0.3.2",
      "provenance": []
    },
    "kernelspec": {
      "name": "python3",
      "display_name": "Python 3"
    },
    "accelerator": "GPU"
  },
  "cells": [
    {
      "metadata": {
        "id": "4H23GMwU2Xa0",
        "colab_type": "text"
      },
      "cell_type": "markdown",
      "source": [
        "# Реализуем метод predict_proba для KNN"
      ]
    },
    {
      "metadata": {
        "id": "_2jVxvaz2Xa8",
        "colab_type": "text"
      },
      "cell_type": "markdown",
      "source": [
        "Ниже реализован класс KNeighborsClassifier, который для поиска ближайших соседей использует sklearn.neighbors.NearestNeighbors\n",
        "\n",
        "Требуется реализовать метод predict_proba для вычисления ответа классификатора."
      ]
    },
    {
      "metadata": {
        "id": "bVT02UAd2Xa_",
        "colab_type": "code",
        "colab": {}
      },
      "cell_type": "code",
      "source": [
        "import numpy as np\n",
        "\n",
        "from sklearn.base import BaseEstimator, ClassifierMixin\n",
        "from sklearn.neighbors import NearestNeighbors\n",
        "\n",
        "\n",
        "class KNeighborsClassifier(BaseEstimator, ClassifierMixin):\n",
        "    '''\n",
        "    Класс, который позволит нам изучить KNN\n",
        "    '''\n",
        "    def __init__(self, n_neighbors=5, weights='uniform', \n",
        "                 metric='minkowski', p=2):\n",
        "        '''\n",
        "        Инициализируем KNN с несколькими стандартными параметрами\n",
        "        '''\n",
        "        assert weights in ('uniform', 'distance')\n",
        "        \n",
        "        self.n_neighbors = n_neighbors\n",
        "        self.weights = weights\n",
        "        self.metric = metric\n",
        "        \n",
        "        self.NearestNeighbors = NearestNeighbors(\n",
        "            n_neighbors = n_neighbors,\n",
        "            metric = self.metric)\n",
        "    \n",
        "    def fit(self, X, y):\n",
        "        '''\n",
        "        Используем sklearn.neighbors.NearestNeighbors \n",
        "        для запоминания обучающей выборки\n",
        "        и последующего поиска соседей\n",
        "        '''\n",
        "        self.NearestNeighbors.fit(X)\n",
        "        self.n_classes = len(np.unique(y))\n",
        "        self.y = y\n",
        "        \n",
        "    def predict_proba(self, X, use_first_zero_distant_sample=True):\n",
        "        '''\n",
        "        Чтобы реализовать этот метод, \n",
        "        изучите работу sklearn.neighbors.NearestNeighbors'''\n",
        "        \n",
        "        neigh_dist, neigh_ind = self.NearestNeighbors.kneighbors(X)\n",
        "        \n",
        "        if self.weights == 'uniform':\n",
        "            w = np.ones(neigh_dist.shape)\n",
        "        else:\n",
        "            w = 1 / (neigh_dist + 1e-3)\n",
        "        \n",
        "\n",
        "        pred_labels = self.y[neigh_ind]   \n",
        "        n_samples = X.shape[0]\n",
        "        probs = np.zeros((n_samples, self.n_classes))\n",
        "\n",
        "        all_rows = np.arange(X.shape[0])\n",
        "        for i, idx in enumerate(pred_labels.T):\n",
        "            probs[all_rows, idx] += w[:, i]\n",
        "\n",
        "        normalizer = probs.sum(axis=1)[:, np.newaxis]\n",
        "        probs /= normalizer\n",
        "        \n",
        "        return probs"
      ],
      "execution_count": 0,
      "outputs": []
    },
    {
      "metadata": {
        "id": "yEW1eOfL2XbL",
        "colab_type": "text"
      },
      "cell_type": "markdown",
      "source": [
        "# Загрузим данные и обучим классификатор"
      ]
    },
    {
      "metadata": {
        "id": "eqkgrzdr2XbQ",
        "colab_type": "code",
        "colab": {}
      },
      "cell_type": "code",
      "source": [
        "from sklearn.datasets import load_iris\n",
        "X, y = load_iris(return_X_y=True)\n",
        "\n",
        "knn = KNeighborsClassifier(weights='distance')\n",
        "knn.fit(X, y)\n",
        "prediction = knn.predict_proba(X, )"
      ],
      "execution_count": 0,
      "outputs": []
    },
    {
      "metadata": {
        "id": "7y_2V4w42XbY",
        "colab_type": "text"
      },
      "cell_type": "markdown",
      "source": [
        "Поскольку мы используем одну и ту же выборку для обучения и предсказания, ближайшим соседом любого объекта будет он же сам. В качестве упражнения предлагаю реализовать метод transform, который реализует получение предсказаний для обучающей выборки, но для каждого объекта не будет учитывать его самого.\n",
        "\n",
        "Посмотрим, в каких объектах max(prediction) != 1:"
      ]
    },
    {
      "metadata": {
        "id": "czNowlTM2Xba",
        "colab_type": "code",
        "colab": {
          "base_uri": "https://localhost:8080/",
          "height": 34
        },
        "outputId": "a1bc4426-7cdb-4380-8a9e-2837c3bce0f8"
      },
      "cell_type": "code",
      "source": [
        "inds = np.arange(len(prediction))[prediction.max(1) != 1]\n",
        "print(inds)\n",
        "\n",
        "# [ 56  68  70  72  77  83 106 110 119 123 127 133 134 138 146]"
      ],
      "execution_count": 54,
      "outputs": [
        {
          "output_type": "stream",
          "text": [
            "[ 56  68  70  72  77  83 106 110 119 123 127 133 134 138 146]\n"
          ],
          "name": "stdout"
        }
      ]
    },
    {
      "metadata": {
        "id": "D2hioc052Xbk",
        "colab_type": "text"
      },
      "cell_type": "markdown",
      "source": [
        "Несколько примеров, на которых можно проверить правильность реализованного метода:"
      ]
    },
    {
      "metadata": {
        "id": "Fer4XQ-d2Xbm",
        "colab_type": "code",
        "colab": {
          "base_uri": "https://localhost:8080/",
          "height": 69
        },
        "outputId": "b20e4ad8-cbda-4bfe-d3f5-1659146b0192"
      },
      "cell_type": "code",
      "source": [
        "for i in 1, 4, -1:\n",
        "    print(inds[i], prediction[inds[i]])\n",
        "\n",
        "# 68 [0.         0.99816311 0.00183689]\n",
        "# 77 [0.         0.99527902 0.00472098]\n",
        "# 146 [0.         0.00239145 0.99760855]"
      ],
      "execution_count": 55,
      "outputs": [
        {
          "output_type": "stream",
          "text": [
            "68 [0.         0.99816311 0.00183689]\n",
            "77 [0.         0.99527902 0.00472098]\n",
            "146 [0.         0.00239145 0.99760855]\n"
          ],
          "name": "stdout"
        }
      ]
    },
    {
      "metadata": {
        "id": "9VnfxkqI2Xbv",
        "colab_type": "text"
      },
      "cell_type": "markdown",
      "source": [
        "**Примечание:** отличие в третьем-четвертом знаке после запятой в тестах не должно повлиять на сдачу задания"
      ]
    },
    {
      "metadata": {
        "id": "3_56m4bn2Xb0",
        "colab_type": "text"
      },
      "cell_type": "markdown",
      "source": [
        "# Ответы для формы"
      ]
    },
    {
      "metadata": {
        "id": "fJeT95GS2Xb4",
        "colab_type": "text"
      },
      "cell_type": "markdown",
      "source": [
        "В форму требуется ввести max(prediction) для объекта. Если метод реализован верно, то ячейка ниже распечатает ответы, которые нужно ввести в форму"
      ]
    },
    {
      "metadata": {
        "id": "wDtZ-RlX2Xb5",
        "colab_type": "code",
        "colab": {
          "base_uri": "https://localhost:8080/",
          "height": 69
        },
        "outputId": "63851f5f-492e-41ed-c96d-2c6f7a4862ce"
      },
      "cell_type": "code",
      "source": [
        "for i in 56, 83, 127:\n",
        "    print('{:.2f}'.format(max(prediction[i])))"
      ],
      "execution_count": 56,
      "outputs": [
        {
          "output_type": "stream",
          "text": [
            "1.00\n",
            "0.99\n",
            "1.00\n"
          ],
          "name": "stdout"
        }
      ]
    },
    {
      "metadata": {
        "id": "MAoE_HyZ2XcD",
        "colab_type": "code",
        "colab": {}
      },
      "cell_type": "code",
      "source": [
        ""
      ],
      "execution_count": 0,
      "outputs": []
    }
  ]
}