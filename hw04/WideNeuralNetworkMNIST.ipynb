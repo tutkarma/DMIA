{
  "nbformat": 4,
  "nbformat_minor": 0,
  "metadata": {
    "colab": {
      "name": "WideNeuralNetworkMNIST.ipynb",
      "version": "0.3.2",
      "provenance": []
    },
    "kernelspec": {
      "name": "python3",
      "display_name": "Python 3"
    },
    "accelerator": "GPU"
  },
  "cells": [
    {
      "metadata": {
        "id": "bI33c5bDECtD",
        "colab_type": "text"
      },
      "cell_type": "markdown",
      "source": [
        "# Нейросеть с одним скрытым слоем на MNIST"
      ]
    },
    {
      "metadata": {
        "id": "96q3uWkSECtJ",
        "colab_type": "text"
      },
      "cell_type": "markdown",
      "source": [
        "Попробуем применить модель с одним скрытым слоем на датасете MNIST. Необходимо будет реализовать функцию, обучающую модель и понять, в какое качество мы \"упираемся\"."
      ]
    },
    {
      "metadata": {
        "id": "z2mg7q3hECtL",
        "colab_type": "text"
      },
      "cell_type": "markdown",
      "source": [
        "## Загрузим данные"
      ]
    },
    {
      "metadata": {
        "scrolled": true,
        "id": "yOLYQ1yQECtP",
        "colab_type": "code",
        "colab": {
          "base_uri": "https://localhost:8080/",
          "height": 34
        },
        "outputId": "0e46bc3d-4940-4281-94ce-45668e00c864"
      },
      "cell_type": "code",
      "source": [
        "import keras\n",
        "import numpy as np\n",
        "\n",
        "from keras.datasets import mnist\n",
        "from keras.utils import np_utils\n",
        "\n",
        "from keras.layers import Dense\n",
        "from keras.layers.core import Activation\n",
        "from keras.models import Sequential\n",
        "\n",
        "import matplotlib.pyplot as plt"
      ],
      "execution_count": 1,
      "outputs": [
        {
          "output_type": "stream",
          "text": [
            "Using TensorFlow backend.\n"
          ],
          "name": "stderr"
        }
      ]
    },
    {
      "metadata": {
        "id": "UxOwPvI3ECtZ",
        "colab_type": "text"
      },
      "cell_type": "markdown",
      "source": [
        "Для воспроизводимости расчетов воспользуемся стандартным разбиением на обучающую и тестовую выборки"
      ]
    },
    {
      "metadata": {
        "id": "ZMrTDv81ECtd",
        "colab_type": "code",
        "colab": {
          "base_uri": "https://localhost:8080/",
          "height": 52
        },
        "outputId": "4ffd8220-ecc6-4c35-ed59-e95c4f28f6ce"
      },
      "cell_type": "code",
      "source": [
        "train, test = mnist.load_data()\n",
        "\n",
        "x_train = train[0]\n",
        "y_train = train[1]\n",
        "\n",
        "x_test = test[0]\n",
        "y_test = test[1]"
      ],
      "execution_count": 2,
      "outputs": [
        {
          "output_type": "stream",
          "text": [
            "Downloading data from https://s3.amazonaws.com/img-datasets/mnist.npz\n",
            "11493376/11490434 [==============================] - 0s 0us/step\n"
          ],
          "name": "stdout"
        }
      ]
    },
    {
      "metadata": {
        "id": "Yn4lXbb-ECtl",
        "colab_type": "text"
      },
      "cell_type": "markdown",
      "source": [
        "Перед тем, как начать работу, посмотрите на данные глазами"
      ]
    },
    {
      "metadata": {
        "id": "kV5dFPiNECto",
        "colab_type": "code",
        "colab": {
          "base_uri": "https://localhost:8080/",
          "height": 191
        },
        "outputId": "af08fad8-7e43-429e-ad40-6bf6f3f99d33"
      },
      "cell_type": "code",
      "source": [
        "images_and_labels = list(zip(x_train,  y_train))\n",
        "for index, (image, label) in enumerate(images_and_labels[:12]):\n",
        "    plt.subplot(5, 4, index + 1)\n",
        "    plt.axis('off')\n",
        "    plt.imshow(image, cmap=plt.cm.gray_r, interpolation='nearest')\n",
        "    plt.title('label: %i' % label )"
      ],
      "execution_count": 3,
      "outputs": [
        {
          "output_type": "display_data",
          "data": {
            "image/png": "[encoded data removed]",
            "text/plain": [
              "<Figure size 432x288 with 12 Axes>"
            ]
          },
          "metadata": {
            "tags": []
          }
        }
      ]
    },
    {
      "metadata": {
        "id": "vohBkAF3ECtu",
        "colab_type": "text"
      },
      "cell_type": "markdown",
      "source": [
        "Преобразуем данные: сделаем так, чтобы мы работали с матрицей, у которой значения от 0 до 1"
      ]
    },
    {
      "metadata": {
        "id": "6_oqVzn6ECtx",
        "colab_type": "code",
        "colab": {
          "base_uri": "https://localhost:8080/",
          "height": 52
        },
        "outputId": "3683db6f-5099-4fb2-8e4a-34b662419ac8"
      },
      "cell_type": "code",
      "source": [
        "x_train = x_train.reshape(60000, 28*28)\n",
        "x_test = x_test.reshape(10000, 28*28)\n",
        "x_train = x_train.astype('float32')\n",
        "x_test = x_test.astype('float32')\n",
        "x_train /= 255\n",
        "x_test /= 255\n",
        "print(x_train.shape[0], 'train samples')\n",
        "print(x_test.shape[0], 'test samples')"
      ],
      "execution_count": 4,
      "outputs": [
        {
          "output_type": "stream",
          "text": [
            "60000 train samples\n",
            "10000 test samples\n"
          ],
          "name": "stdout"
        }
      ]
    },
    {
      "metadata": {
        "id": "XfWeY-DFECt3",
        "colab_type": "text"
      },
      "cell_type": "markdown",
      "source": [
        "А таргет сделаем категориальной переменной (то есть значение таргета по индексу k будет говорить, является ли эта цифра k)"
      ]
    },
    {
      "metadata": {
        "id": "OTt7-JGAECt5",
        "colab_type": "code",
        "colab": {}
      },
      "cell_type": "code",
      "source": [
        "num_classes = 10\n",
        "y_train = keras.utils.to_categorical(y_train, num_classes)\n",
        "y_test = keras.utils.to_categorical(y_test, num_classes)"
      ],
      "execution_count": 0,
      "outputs": []
    },
    {
      "metadata": {
        "id": "h3gLQqD9ECuB",
        "colab_type": "text"
      },
      "cell_type": "markdown",
      "source": [
        "## Построим модель для обучения"
      ]
    },
    {
      "metadata": {
        "id": "RHk73ogYECuE",
        "colab_type": "text"
      },
      "cell_type": "markdown",
      "source": [
        "Зафиксируем гиперпараметры сети"
      ]
    },
    {
      "metadata": {
        "id": "dVLLjH_QECuF",
        "colab_type": "code",
        "colab": {}
      },
      "cell_type": "code",
      "source": [
        "batch_size = 128\n",
        "epochs = 10"
      ],
      "execution_count": 0,
      "outputs": []
    },
    {
      "metadata": {
        "scrolled": true,
        "id": "L6mXeFbkECuO",
        "colab_type": "code",
        "colab": {}
      },
      "cell_type": "code",
      "source": [
        "def get_accuracies_of_wide_model(units, data, batch_size=128, epochs=10, n_iterations=5):\n",
        "    \"\"\"\n",
        "    Функция создает модель с одним скрытым слоем с количеством вершин units,\n",
        "    обучается на данных data с гиперпараметрами batch_size и epochs количество\n",
        "    раз, равное n_iterations и возвращает массив метрик качества на каждой итерации.\n",
        "    \n",
        "    Для функции активации используйте relu, на последнем слое используйте softmax.\n",
        "    \n",
        "    :param units: количество вершин (регулируем)\n",
        "    :param batch_size: размер батча (берем по дефолту)\n",
        "    :param epochs: количество эпох (берем по дефолту)\n",
        "    :param n_iterations: количество итераций (берем по дефолту)\n",
        "    :param data: кортеж, (x_train, y_train, x_test, y_test)\n",
        "    :return: массив, качество на тестовой выборке по каждой итерации\n",
        "    \"\"\"\n",
        "    \n",
        "    x_train, y_train, x_test, y_test = data\n",
        "    accuracies = []\n",
        "    \n",
        "    for i in range(n_iterations):\n",
        "        model = Sequential()\n",
        "        # добавление необходимых слоев\n",
        "        model.add(Dense(units, activation=\"relu\", input_shape=x_train.shape[1:]))\n",
        "        model.add(Dense(10, activation=\"softmax\"))\n",
        "      \n",
        "        # компилируем модель\n",
        "        model.compile(optimizer=\"adam\",\n",
        "                loss='categorical_crossentropy',\n",
        "                 metrics=[\"accuracy\"])\n",
        "        \n",
        "        # обучение\n",
        "        history = model.fit(x_train, y_train,\n",
        "                            batch_size=batch_size,\n",
        "                            epochs=epochs,\n",
        "                            validation_data=(x_test, y_test))\n",
        "        \n",
        "        #получение конечного качества на тестовой выборке\n",
        "        accuracy = history.history[\"acc\"][-1]\n",
        "        accuracies.append(accuracy)\n",
        "    \n",
        "    return accuracies"
      ],
      "execution_count": 0,
      "outputs": []
    },
    {
      "metadata": {
        "id": "yfLL28oMECuY",
        "colab_type": "text"
      },
      "cell_type": "markdown",
      "source": [
        "Переберем разное количество вершин в нашей сети. Чтобы сильно не напрягать компьютер, не берите больше 3000 вершин.\n",
        "\n",
        "Задача со звездочкой: постройте график качества и посмотрите, изменяется ли оно"
      ]
    },
    {
      "metadata": {
        "id": "APpYUJTNECuf",
        "colab_type": "code",
        "colab": {
          "base_uri": "https://localhost:8080/",
          "height": 7435
        },
        "outputId": "d2262907-184f-4845-c9c5-76a4ee137567"
      },
      "cell_type": "code",
      "source": [
        "# делаем массив вершин (рекомендуем брать до 3000)\n",
        "units_list = [1, 1000, 2000, 3000]\n",
        "              \n",
        "data = (x_train, y_train, x_test, y_test)\n",
        "results = [get_accuracies_of_wide_model(units, data) for units in units_list]"
      ],
      "execution_count": 8,
      "outputs": [
        {
          "output_type": "stream",
          "text": [
            "WARNING:tensorflow:From /usr/local/lib/python3.6/dist-packages/tensorflow/python/framework/op_def_library.py:263: colocate_with (from tensorflow.python.framework.ops) is deprecated and will be removed in a future version.\n",
            "Instructions for updating:\n",
            "Colocations handled automatically by placer.\n",
            "WARNING:tensorflow:From /usr/local/lib/python3.6/dist-packages/tensorflow/python/ops/math_ops.py:3066: to_int32 (from tensorflow.python.ops.math_ops) is deprecated and will be removed in a future version.\n",
            "Instructions for updating:\n",
            "Use tf.cast instead.\n",
            "Train on 60000 samples, validate on 10000 samples\n",
            "Epoch 1/10\n",
            "60000/60000 [==============================] - 3s 46us/step - loss: 2.0204 - acc: 0.2064 - val_loss: 1.9139 - val_acc: 0.2139\n",
            "Epoch 2/10\n",
            "60000/60000 [==============================] - 1s 24us/step - loss: 1.8689 - acc: 0.2219 - val_loss: 1.8397 - val_acc: 0.2226\n",
            "Epoch 3/10\n",
            "60000/60000 [==============================] - 1s 24us/step - loss: 1.8147 - acc: 0.2333 - val_loss: 1.8037 - val_acc: 0.2345\n",
            "Epoch 4/10\n",
            "60000/60000 [==============================] - 1s 23us/step - loss: 1.7848 - acc: 0.2458 - val_loss: 1.7822 - val_acc: 0.2480\n",
            "Epoch 5/10\n",
            "60000/60000 [==============================] - 1s 24us/step - loss: 1.7644 - acc: 0.2573 - val_loss: 1.7675 - val_acc: 0.2523\n",
            "Epoch 6/10\n",
            "60000/60000 [==============================] - 1s 24us/step - loss: 1.7487 - acc: 0.2664 - val_loss: 1.7541 - val_acc: 0.2674\n",
            "Epoch 7/10\n",
            "60000/60000 [==============================] - 2s 26us/step - loss: 1.7358 - acc: 0.2766 - val_loss: 1.7445 - val_acc: 0.2736\n",
            "Epoch 8/10\n",
            "60000/60000 [==============================] - 2s 27us/step - loss: 1.7252 - acc: 0.2855 - val_loss: 1.7359 - val_acc: 0.2868\n",
            "Epoch 9/10\n",
            "60000/60000 [==============================] - 2s 27us/step - loss: 1.7161 - acc: 0.2951 - val_loss: 1.7293 - val_acc: 0.2933\n",
            "Epoch 10/10\n",
            "60000/60000 [==============================] - 2s 27us/step - loss: 1.7082 - acc: 0.3038 - val_loss: 1.7236 - val_acc: 0.2970\n",
            "Train on 60000 samples, validate on 10000 samples\n",
            "Epoch 1/10\n",
            "60000/60000 [==============================] - 2s 30us/step - loss: 2.0427 - acc: 0.2055 - val_loss: 1.9178 - val_acc: 0.2134\n",
            "Epoch 2/10\n",
            "60000/60000 [==============================] - 2s 28us/step - loss: 1.8745 - acc: 0.2158 - val_loss: 1.8499 - val_acc: 0.2130\n",
            "Epoch 3/10\n",
            "60000/60000 [==============================] - 1s 25us/step - loss: 1.8257 - acc: 0.2192 - val_loss: 1.8189 - val_acc: 0.2209\n",
            "Epoch 4/10\n",
            "60000/60000 [==============================] - 1s 24us/step - loss: 1.7988 - acc: 0.2260 - val_loss: 1.8005 - val_acc: 0.2274\n",
            "Epoch 5/10\n",
            "60000/60000 [==============================] - 1s 25us/step - loss: 1.7801 - acc: 0.2369 - val_loss: 1.7846 - val_acc: 0.2428\n",
            "Epoch 6/10\n",
            "60000/60000 [==============================] - 2s 29us/step - loss: 1.7652 - acc: 0.2507 - val_loss: 1.7740 - val_acc: 0.2581\n",
            "Epoch 7/10\n",
            "60000/60000 [==============================] - 2s 28us/step - loss: 1.7532 - acc: 0.2646 - val_loss: 1.7631 - val_acc: 0.2704\n",
            "Epoch 8/10\n",
            "60000/60000 [==============================] - 2s 28us/step - loss: 1.7429 - acc: 0.2760 - val_loss: 1.7546 - val_acc: 0.2768\n",
            "Epoch 9/10\n",
            "60000/60000 [==============================] - 2s 28us/step - loss: 1.7346 - acc: 0.2826 - val_loss: 1.7485 - val_acc: 0.2882\n",
            "Epoch 10/10\n",
            "60000/60000 [==============================] - 2s 28us/step - loss: 1.7276 - acc: 0.2907 - val_loss: 1.7436 - val_acc: 0.2856\n",
            "Train on 60000 samples, validate on 10000 samples\n",
            "Epoch 1/10\n",
            "60000/60000 [==============================] - 2s 31us/step - loss: 2.0549 - acc: 0.1852 - val_loss: 1.9246 - val_acc: 0.2020\n",
            "Epoch 2/10\n",
            "60000/60000 [==============================] - 1s 24us/step - loss: 1.8696 - acc: 0.2226 - val_loss: 1.8309 - val_acc: 0.2379\n",
            "Epoch 3/10\n",
            "60000/60000 [==============================] - 1s 24us/step - loss: 1.7989 - acc: 0.2574 - val_loss: 1.7829 - val_acc: 0.2718\n",
            "Epoch 4/10\n",
            "60000/60000 [==============================] - 1s 24us/step - loss: 1.7570 - acc: 0.2833 - val_loss: 1.7516 - val_acc: 0.2903\n",
            "Epoch 5/10\n",
            "60000/60000 [==============================] - 1s 24us/step - loss: 1.7278 - acc: 0.2984 - val_loss: 1.7312 - val_acc: 0.2944\n",
            "Epoch 6/10\n",
            "60000/60000 [==============================] - 1s 24us/step - loss: 1.7055 - acc: 0.3099 - val_loss: 1.7097 - val_acc: 0.3135\n",
            "Epoch 7/10\n",
            "60000/60000 [==============================] - 1s 24us/step - loss: 1.6877 - acc: 0.3195 - val_loss: 1.6959 - val_acc: 0.3221\n",
            "Epoch 8/10\n",
            "60000/60000 [==============================] - 1s 24us/step - loss: 1.6723 - acc: 0.3275 - val_loss: 1.6827 - val_acc: 0.3310\n",
            "Epoch 9/10\n",
            "60000/60000 [==============================] - 1s 24us/step - loss: 1.6584 - acc: 0.3398 - val_loss: 1.6696 - val_acc: 0.3390\n",
            "Epoch 10/10\n",
            "60000/60000 [==============================] - 1s 24us/step - loss: 1.6457 - acc: 0.3501 - val_loss: 1.6564 - val_acc: 0.3532\n",
            "Train on 60000 samples, validate on 10000 samples\n",
            "Epoch 1/10\n",
            "60000/60000 [==============================] - 2s 28us/step - loss: 2.1217 - acc: 0.1978 - val_loss: 2.0405 - val_acc: 0.2119\n",
            "Epoch 2/10\n",
            "60000/60000 [==============================] - 1s 24us/step - loss: 2.0231 - acc: 0.2170 - val_loss: 1.9983 - val_acc: 0.2247\n",
            "Epoch 3/10\n",
            "60000/60000 [==============================] - 1s 24us/step - loss: 1.9745 - acc: 0.2305 - val_loss: 1.9439 - val_acc: 0.2390\n",
            "Epoch 4/10\n",
            "60000/60000 [==============================] - 1s 24us/step - loss: 1.9337 - acc: 0.2429 - val_loss: 1.9086 - val_acc: 0.2529\n",
            "Epoch 5/10\n",
            "60000/60000 [==============================] - 1s 24us/step - loss: 1.8878 - acc: 0.2606 - val_loss: 1.8464 - val_acc: 0.2644\n",
            "Epoch 6/10\n",
            "60000/60000 [==============================] - 1s 24us/step - loss: 1.8295 - acc: 0.2678 - val_loss: 1.7919 - val_acc: 0.2746\n",
            "Epoch 7/10\n",
            "60000/60000 [==============================] - 1s 24us/step - loss: 1.7839 - acc: 0.2710 - val_loss: 1.7564 - val_acc: 0.2723\n",
            "Epoch 8/10\n",
            "60000/60000 [==============================] - 1s 24us/step - loss: 1.7544 - acc: 0.2760 - val_loss: 1.7328 - val_acc: 0.2735\n",
            "Epoch 9/10\n",
            "60000/60000 [==============================] - 1s 24us/step - loss: 1.7361 - acc: 0.2809 - val_loss: 1.7203 - val_acc: 0.2863\n",
            "Epoch 10/10\n",
            "60000/60000 [==============================] - 1s 24us/step - loss: 1.7234 - acc: 0.2873 - val_loss: 1.7091 - val_acc: 0.2836\n",
            "Train on 60000 samples, validate on 10000 samples\n",
            "Epoch 1/10\n",
            "60000/60000 [==============================] - 2s 28us/step - loss: 2.0983 - acc: 0.1828 - val_loss: 1.9862 - val_acc: 0.2163\n",
            "Epoch 2/10\n",
            "60000/60000 [==============================] - 1s 24us/step - loss: 1.9411 - acc: 0.2224 - val_loss: 1.8958 - val_acc: 0.2184\n",
            "Epoch 3/10\n",
            "60000/60000 [==============================] - 1s 24us/step - loss: 1.8721 - acc: 0.2490 - val_loss: 1.8467 - val_acc: 0.2621\n",
            "Epoch 4/10\n",
            "60000/60000 [==============================] - 1s 24us/step - loss: 1.8313 - acc: 0.2729 - val_loss: 1.8158 - val_acc: 0.2749\n",
            "Epoch 5/10\n",
            "60000/60000 [==============================] - 1s 24us/step - loss: 1.8028 - acc: 0.2910 - val_loss: 1.7937 - val_acc: 0.2976\n",
            "Epoch 6/10\n",
            "60000/60000 [==============================] - 1s 24us/step - loss: 1.7802 - acc: 0.3082 - val_loss: 1.7744 - val_acc: 0.3185\n",
            "Epoch 7/10\n",
            "60000/60000 [==============================] - 1s 24us/step - loss: 1.7581 - acc: 0.3322 - val_loss: 1.7518 - val_acc: 0.3389\n",
            "Epoch 8/10\n",
            "60000/60000 [==============================] - 1s 24us/step - loss: 1.7320 - acc: 0.3497 - val_loss: 1.7263 - val_acc: 0.3458\n",
            "Epoch 9/10\n",
            "60000/60000 [==============================] - 1s 24us/step - loss: 1.7081 - acc: 0.3523 - val_loss: 1.7113 - val_acc: 0.3409\n",
            "Epoch 10/10\n",
            "60000/60000 [==============================] - 1s 24us/step - loss: 1.6887 - acc: 0.3528 - val_loss: 1.6904 - val_acc: 0.3479\n",
            "Train on 60000 samples, validate on 10000 samples\n",
            "Epoch 1/10\n",
            "60000/60000 [==============================] - 2s 33us/step - loss: 0.2368 - acc: 0.9316 - val_loss: 0.1189 - val_acc: 0.9635\n",
            "Epoch 2/10\n",
            "60000/60000 [==============================] - 2s 27us/step - loss: 0.0916 - acc: 0.9727 - val_loss: 0.0840 - val_acc: 0.9742\n",
            "Epoch 3/10\n",
            "60000/60000 [==============================] - 2s 31us/step - loss: 0.0572 - acc: 0.9829 - val_loss: 0.0748 - val_acc: 0.9768\n",
            "Epoch 4/10\n",
            "60000/60000 [==============================] - 2s 32us/step - loss: 0.0403 - acc: 0.9879 - val_loss: 0.0656 - val_acc: 0.9776\n",
            "Epoch 5/10\n",
            "60000/60000 [==============================] - 2s 31us/step - loss: 0.0271 - acc: 0.9922 - val_loss: 0.0700 - val_acc: 0.9770\n",
            "Epoch 6/10\n",
            "60000/60000 [==============================] - 2s 27us/step - loss: 0.0194 - acc: 0.9947 - val_loss: 0.0653 - val_acc: 0.9802\n",
            "Epoch 7/10\n",
            "60000/60000 [==============================] - 2s 27us/step - loss: 0.0150 - acc: 0.9958 - val_loss: 0.0592 - val_acc: 0.9823\n",
            "Epoch 8/10\n",
            "60000/60000 [==============================] - 2s 30us/step - loss: 0.0112 - acc: 0.9973 - val_loss: 0.0626 - val_acc: 0.9823\n",
            "Epoch 9/10\n",
            "60000/60000 [==============================] - 2s 31us/step - loss: 0.0086 - acc: 0.9979 - val_loss: 0.0722 - val_acc: 0.9787\n",
            "Epoch 10/10\n",
            "60000/60000 [==============================] - 2s 31us/step - loss: 0.0078 - acc: 0.9981 - val_loss: 0.0777 - val_acc: 0.9805\n",
            "Train on 60000 samples, validate on 10000 samples\n",
            "Epoch 1/10\n",
            "60000/60000 [==============================] - 2s 37us/step - loss: 0.2369 - acc: 0.9313 - val_loss: 0.1236 - val_acc: 0.9624\n",
            "Epoch 2/10\n",
            "60000/60000 [==============================] - 2s 31us/step - loss: 0.0914 - acc: 0.9728 - val_loss: 0.0886 - val_acc: 0.9713\n",
            "Epoch 3/10\n",
            "60000/60000 [==============================] - 2s 28us/step - loss: 0.0577 - acc: 0.9831 - val_loss: 0.0691 - val_acc: 0.9794\n",
            "Epoch 4/10\n",
            "60000/60000 [==============================] - 2s 27us/step - loss: 0.0401 - acc: 0.9878 - val_loss: 0.0620 - val_acc: 0.9815\n",
            "Epoch 5/10\n",
            "60000/60000 [==============================] - 2s 27us/step - loss: 0.0273 - acc: 0.9920 - val_loss: 0.0563 - val_acc: 0.9822\n",
            "Epoch 6/10\n",
            "60000/60000 [==============================] - 2s 27us/step - loss: 0.0199 - acc: 0.9945 - val_loss: 0.0532 - val_acc: 0.9828\n",
            "Epoch 7/10\n",
            "60000/60000 [==============================] - 2s 27us/step - loss: 0.0146 - acc: 0.9959 - val_loss: 0.0638 - val_acc: 0.9801\n",
            "Epoch 8/10\n",
            "60000/60000 [==============================] - 2s 27us/step - loss: 0.0105 - acc: 0.9973 - val_loss: 0.0583 - val_acc: 0.9823\n",
            "Epoch 9/10\n",
            "60000/60000 [==============================] - 2s 27us/step - loss: 0.0102 - acc: 0.9970 - val_loss: 0.0667 - val_acc: 0.9806\n",
            "Epoch 10/10\n",
            "60000/60000 [==============================] - 2s 27us/step - loss: 0.0097 - acc: 0.9971 - val_loss: 0.0605 - val_acc: 0.9838\n",
            "Train on 60000 samples, validate on 10000 samples\n",
            "Epoch 1/10\n",
            "60000/60000 [==============================] - 2s 33us/step - loss: 0.2345 - acc: 0.9323 - val_loss: 0.1155 - val_acc: 0.9656\n",
            "Epoch 2/10\n",
            "60000/60000 [==============================] - 2s 27us/step - loss: 0.0907 - acc: 0.9731 - val_loss: 0.0816 - val_acc: 0.9743\n",
            "Epoch 3/10\n",
            "60000/60000 [==============================] - 2s 27us/step - loss: 0.0585 - acc: 0.9822 - val_loss: 0.0738 - val_acc: 0.9769\n",
            "Epoch 4/10\n",
            "60000/60000 [==============================] - 2s 27us/step - loss: 0.0391 - acc: 0.9884 - val_loss: 0.0680 - val_acc: 0.9786\n",
            "Epoch 5/10\n",
            "60000/60000 [==============================] - 2s 27us/step - loss: 0.0283 - acc: 0.9918 - val_loss: 0.0591 - val_acc: 0.9820\n",
            "Epoch 6/10\n",
            "60000/60000 [==============================] - 2s 27us/step - loss: 0.0203 - acc: 0.9942 - val_loss: 0.0599 - val_acc: 0.9819\n",
            "Epoch 7/10\n",
            "60000/60000 [==============================] - 2s 27us/step - loss: 0.0142 - acc: 0.9960 - val_loss: 0.0634 - val_acc: 0.9807\n",
            "Epoch 8/10\n",
            "60000/60000 [==============================] - 2s 27us/step - loss: 0.0100 - acc: 0.9975 - val_loss: 0.0641 - val_acc: 0.9820\n",
            "Epoch 9/10\n",
            "60000/60000 [==============================] - 2s 27us/step - loss: 0.0073 - acc: 0.9984 - val_loss: 0.0622 - val_acc: 0.9824\n",
            "Epoch 10/10\n",
            "60000/60000 [==============================] - 2s 27us/step - loss: 0.0124 - acc: 0.9961 - val_loss: 0.0757 - val_acc: 0.9781\n",
            "Train on 60000 samples, validate on 10000 samples\n",
            "Epoch 1/10\n",
            "60000/60000 [==============================] - 2s 34us/step - loss: 0.2353 - acc: 0.9331 - val_loss: 0.1164 - val_acc: 0.9640\n",
            "Epoch 2/10\n",
            "60000/60000 [==============================] - 2s 27us/step - loss: 0.0917 - acc: 0.9725 - val_loss: 0.0757 - val_acc: 0.9759\n",
            "Epoch 3/10\n",
            "60000/60000 [==============================] - 2s 27us/step - loss: 0.0569 - acc: 0.9837 - val_loss: 0.0673 - val_acc: 0.9784\n",
            "Epoch 4/10\n",
            "60000/60000 [==============================] - 2s 27us/step - loss: 0.0378 - acc: 0.9887 - val_loss: 0.0736 - val_acc: 0.9766\n",
            "Epoch 5/10\n",
            "60000/60000 [==============================] - 2s 27us/step - loss: 0.0278 - acc: 0.9917 - val_loss: 0.0597 - val_acc: 0.9814\n",
            "Epoch 6/10\n",
            "60000/60000 [==============================] - 2s 27us/step - loss: 0.0209 - acc: 0.9940 - val_loss: 0.0691 - val_acc: 0.9773\n",
            "Epoch 7/10\n",
            "60000/60000 [==============================] - 2s 27us/step - loss: 0.0142 - acc: 0.9960 - val_loss: 0.0689 - val_acc: 0.9794\n",
            "Epoch 8/10\n",
            "60000/60000 [==============================] - 2s 27us/step - loss: 0.0103 - acc: 0.9973 - val_loss: 0.0636 - val_acc: 0.9798\n",
            "Epoch 9/10\n",
            "60000/60000 [==============================] - 2s 27us/step - loss: 0.0096 - acc: 0.9975 - val_loss: 0.0645 - val_acc: 0.9817\n",
            "Epoch 10/10\n",
            "60000/60000 [==============================] - 2s 27us/step - loss: 0.0079 - acc: 0.9978 - val_loss: 0.0659 - val_acc: 0.9814\n",
            "Train on 60000 samples, validate on 10000 samples\n",
            "Epoch 1/10\n",
            "60000/60000 [==============================] - 2s 35us/step - loss: 0.2368 - acc: 0.9319 - val_loss: 0.1217 - val_acc: 0.9624\n",
            "Epoch 2/10\n",
            "60000/60000 [==============================] - 2s 27us/step - loss: 0.0917 - acc: 0.9728 - val_loss: 0.0872 - val_acc: 0.9717\n",
            "Epoch 3/10\n",
            "60000/60000 [==============================] - 2s 27us/step - loss: 0.0583 - acc: 0.9824 - val_loss: 0.0729 - val_acc: 0.9747\n",
            "Epoch 4/10\n",
            "60000/60000 [==============================] - 2s 27us/step - loss: 0.0402 - acc: 0.9877 - val_loss: 0.0588 - val_acc: 0.9805\n",
            "Epoch 5/10\n",
            "60000/60000 [==============================] - 2s 27us/step - loss: 0.0283 - acc: 0.9915 - val_loss: 0.0670 - val_acc: 0.9788\n",
            "Epoch 6/10\n",
            "60000/60000 [==============================] - 2s 27us/step - loss: 0.0186 - acc: 0.9952 - val_loss: 0.0650 - val_acc: 0.9787\n",
            "Epoch 7/10\n",
            "60000/60000 [==============================] - 2s 27us/step - loss: 0.0141 - acc: 0.9962 - val_loss: 0.0690 - val_acc: 0.9793\n",
            "Epoch 8/10\n",
            "60000/60000 [==============================] - 2s 27us/step - loss: 0.0119 - acc: 0.9966 - val_loss: 0.0682 - val_acc: 0.9806\n",
            "Epoch 9/10\n",
            "60000/60000 [==============================] - 2s 27us/step - loss: 0.0098 - acc: 0.9973 - val_loss: 0.0693 - val_acc: 0.9793\n",
            "Epoch 10/10\n",
            "60000/60000 [==============================] - 2s 27us/step - loss: 0.0078 - acc: 0.9980 - val_loss: 0.0804 - val_acc: 0.9787\n",
            "Train on 60000 samples, validate on 10000 samples\n",
            "Epoch 1/10\n",
            "60000/60000 [==============================] - 2s 41us/step - loss: 0.2125 - acc: 0.9370 - val_loss: 0.1100 - val_acc: 0.9670\n",
            "Epoch 2/10\n",
            "60000/60000 [==============================] - 2s 31us/step - loss: 0.0791 - acc: 0.9753 - val_loss: 0.0791 - val_acc: 0.9748\n",
            "Epoch 3/10\n",
            "60000/60000 [==============================] - 2s 31us/step - loss: 0.0500 - acc: 0.9844 - val_loss: 0.0680 - val_acc: 0.9789\n",
            "Epoch 4/10\n",
            "60000/60000 [==============================] - 2s 33us/step - loss: 0.0318 - acc: 0.9900 - val_loss: 0.0675 - val_acc: 0.9788\n",
            "Epoch 5/10\n",
            "60000/60000 [==============================] - 2s 35us/step - loss: 0.0223 - acc: 0.9935 - val_loss: 0.0753 - val_acc: 0.9783\n",
            "Epoch 6/10\n",
            "60000/60000 [==============================] - 2s 35us/step - loss: 0.0168 - acc: 0.9950 - val_loss: 0.0636 - val_acc: 0.9824\n",
            "Epoch 7/10\n",
            "60000/60000 [==============================] - 2s 35us/step - loss: 0.0147 - acc: 0.9956 - val_loss: 0.0631 - val_acc: 0.9806\n",
            "Epoch 8/10\n",
            "60000/60000 [==============================] - 2s 35us/step - loss: 0.0121 - acc: 0.9962 - val_loss: 0.0802 - val_acc: 0.9785\n",
            "Epoch 9/10\n",
            "60000/60000 [==============================] - 2s 32us/step - loss: 0.0124 - acc: 0.9959 - val_loss: 0.0687 - val_acc: 0.9818\n",
            "Epoch 10/10\n",
            "60000/60000 [==============================] - 2s 31us/step - loss: 0.0103 - acc: 0.9968 - val_loss: 0.0742 - val_acc: 0.9798\n",
            "Train on 60000 samples, validate on 10000 samples\n",
            "Epoch 1/10\n",
            "60000/60000 [==============================] - 2s 40us/step - loss: 0.2129 - acc: 0.9368 - val_loss: 0.1010 - val_acc: 0.9693\n",
            "Epoch 2/10\n",
            "60000/60000 [==============================] - 2s 31us/step - loss: 0.0783 - acc: 0.9763 - val_loss: 0.0765 - val_acc: 0.9764\n",
            "Epoch 3/10\n",
            "60000/60000 [==============================] - 2s 31us/step - loss: 0.0486 - acc: 0.9851 - val_loss: 0.0655 - val_acc: 0.9784\n",
            "Epoch 4/10\n",
            "60000/60000 [==============================] - 2s 31us/step - loss: 0.0320 - acc: 0.9900 - val_loss: 0.0661 - val_acc: 0.9790\n",
            "Epoch 5/10\n",
            "60000/60000 [==============================] - 2s 31us/step - loss: 0.0223 - acc: 0.9932 - val_loss: 0.0615 - val_acc: 0.9804\n",
            "Epoch 6/10\n",
            "60000/60000 [==============================] - 2s 31us/step - loss: 0.0174 - acc: 0.9946 - val_loss: 0.0674 - val_acc: 0.9800\n",
            "Epoch 7/10\n",
            "60000/60000 [==============================] - 2s 31us/step - loss: 0.0137 - acc: 0.9958 - val_loss: 0.0657 - val_acc: 0.9813\n",
            "Epoch 8/10\n",
            "60000/60000 [==============================] - 2s 31us/step - loss: 0.0103 - acc: 0.9969 - val_loss: 0.0759 - val_acc: 0.9784\n",
            "Epoch 9/10\n",
            "60000/60000 [==============================] - 2s 31us/step - loss: 0.0104 - acc: 0.9965 - val_loss: 0.0637 - val_acc: 0.9823\n",
            "Epoch 10/10\n",
            "60000/60000 [==============================] - 2s 31us/step - loss: 0.0089 - acc: 0.9973 - val_loss: 0.0673 - val_acc: 0.9827\n",
            "Train on 60000 samples, validate on 10000 samples\n",
            "Epoch 1/10\n",
            "60000/60000 [==============================] - 2s 41us/step - loss: 0.2126 - acc: 0.9373 - val_loss: 0.0972 - val_acc: 0.9704\n",
            "Epoch 2/10\n",
            "60000/60000 [==============================] - 2s 31us/step - loss: 0.0804 - acc: 0.9758 - val_loss: 0.0788 - val_acc: 0.9735\n",
            "Epoch 3/10\n",
            "60000/60000 [==============================] - 2s 32us/step - loss: 0.0494 - acc: 0.9844 - val_loss: 0.0725 - val_acc: 0.9779\n",
            "Epoch 4/10\n",
            "60000/60000 [==============================] - 2s 32us/step - loss: 0.0317 - acc: 0.9904 - val_loss: 0.0652 - val_acc: 0.9797\n",
            "Epoch 5/10\n",
            "60000/60000 [==============================] - 2s 31us/step - loss: 0.0216 - acc: 0.9935 - val_loss: 0.0657 - val_acc: 0.9800\n",
            "Epoch 6/10\n",
            "60000/60000 [==============================] - 2s 31us/step - loss: 0.0182 - acc: 0.9946 - val_loss: 0.0593 - val_acc: 0.9814\n",
            "Epoch 7/10\n",
            "60000/60000 [==============================] - 2s 32us/step - loss: 0.0119 - acc: 0.9968 - val_loss: 0.0738 - val_acc: 0.9781\n",
            "Epoch 8/10\n",
            "60000/60000 [==============================] - 2s 32us/step - loss: 0.0123 - acc: 0.9958 - val_loss: 0.0663 - val_acc: 0.9813\n",
            "Epoch 9/10\n",
            "60000/60000 [==============================] - 2s 31us/step - loss: 0.0096 - acc: 0.9973 - val_loss: 0.0751 - val_acc: 0.9791\n",
            "Epoch 10/10\n",
            "60000/60000 [==============================] - 2s 31us/step - loss: 0.0101 - acc: 0.9969 - val_loss: 0.0717 - val_acc: 0.9815\n",
            "Train on 60000 samples, validate on 10000 samples\n",
            "Epoch 1/10\n",
            "60000/60000 [==============================] - 3s 42us/step - loss: 0.2141 - acc: 0.9369 - val_loss: 0.1065 - val_acc: 0.9679\n",
            "Epoch 2/10\n",
            "60000/60000 [==============================] - 2s 31us/step - loss: 0.0803 - acc: 0.9757 - val_loss: 0.0735 - val_acc: 0.9762\n",
            "Epoch 3/10\n",
            "60000/60000 [==============================] - 2s 31us/step - loss: 0.0496 - acc: 0.9843 - val_loss: 0.0664 - val_acc: 0.9779\n",
            "Epoch 4/10\n",
            "60000/60000 [==============================] - 2s 31us/step - loss: 0.0324 - acc: 0.9901 - val_loss: 0.0654 - val_acc: 0.9787\n",
            "Epoch 5/10\n",
            "60000/60000 [==============================] - 2s 31us/step - loss: 0.0226 - acc: 0.9932 - val_loss: 0.0641 - val_acc: 0.9808\n",
            "Epoch 6/10\n",
            "60000/60000 [==============================] - 2s 31us/step - loss: 0.0178 - acc: 0.9949 - val_loss: 0.0582 - val_acc: 0.9828\n",
            "Epoch 7/10\n",
            "60000/60000 [==============================] - 2s 31us/step - loss: 0.0127 - acc: 0.9960 - val_loss: 0.0620 - val_acc: 0.9814\n",
            "Epoch 8/10\n",
            "60000/60000 [==============================] - 2s 31us/step - loss: 0.0112 - acc: 0.9966 - val_loss: 0.0598 - val_acc: 0.9846\n",
            "Epoch 9/10\n",
            "60000/60000 [==============================] - 2s 31us/step - loss: 0.0082 - acc: 0.9977 - val_loss: 0.0728 - val_acc: 0.9815\n",
            "Epoch 10/10\n",
            "60000/60000 [==============================] - 2s 31us/step - loss: 0.0106 - acc: 0.9965 - val_loss: 0.0814 - val_acc: 0.9790\n",
            "Train on 60000 samples, validate on 10000 samples\n",
            "Epoch 1/10\n",
            "60000/60000 [==============================] - 3s 43us/step - loss: 0.2134 - acc: 0.9372 - val_loss: 0.1063 - val_acc: 0.9669\n",
            "Epoch 2/10\n",
            "60000/60000 [==============================] - 2s 31us/step - loss: 0.0802 - acc: 0.9758 - val_loss: 0.0817 - val_acc: 0.9747\n",
            "Epoch 3/10\n",
            "60000/60000 [==============================] - 2s 31us/step - loss: 0.0486 - acc: 0.9851 - val_loss: 0.0641 - val_acc: 0.9800\n",
            "Epoch 4/10\n",
            "60000/60000 [==============================] - 2s 32us/step - loss: 0.0328 - acc: 0.9898 - val_loss: 0.0596 - val_acc: 0.9811\n",
            "Epoch 5/10\n",
            "60000/60000 [==============================] - 2s 35us/step - loss: 0.0226 - acc: 0.9933 - val_loss: 0.0620 - val_acc: 0.9809\n",
            "Epoch 6/10\n",
            "60000/60000 [==============================] - 2s 35us/step - loss: 0.0160 - acc: 0.9949 - val_loss: 0.0608 - val_acc: 0.9830\n",
            "Epoch 7/10\n",
            "60000/60000 [==============================] - 2s 35us/step - loss: 0.0124 - acc: 0.9963 - val_loss: 0.0711 - val_acc: 0.9808\n",
            "Epoch 8/10\n",
            "60000/60000 [==============================] - 2s 35us/step - loss: 0.0097 - acc: 0.9971 - val_loss: 0.0753 - val_acc: 0.9779\n",
            "Epoch 9/10\n",
            "60000/60000 [==============================] - 2s 34us/step - loss: 0.0125 - acc: 0.9957 - val_loss: 0.0732 - val_acc: 0.9807\n",
            "Epoch 10/10\n",
            "60000/60000 [==============================] - 2s 32us/step - loss: 0.0084 - acc: 0.9974 - val_loss: 0.0811 - val_acc: 0.9790\n",
            "Train on 60000 samples, validate on 10000 samples\n",
            "Epoch 1/10\n",
            "60000/60000 [==============================] - 3s 49us/step - loss: 0.2030 - acc: 0.9395 - val_loss: 0.0972 - val_acc: 0.9705\n",
            "Epoch 2/10\n",
            "60000/60000 [==============================] - 2s 36us/step - loss: 0.0746 - acc: 0.9778 - val_loss: 0.0848 - val_acc: 0.9722\n",
            "Epoch 3/10\n",
            "60000/60000 [==============================] - 2s 36us/step - loss: 0.0449 - acc: 0.9862 - val_loss: 0.0723 - val_acc: 0.9784\n",
            "Epoch 4/10\n",
            "60000/60000 [==============================] - 2s 36us/step - loss: 0.0311 - acc: 0.9903 - val_loss: 0.0752 - val_acc: 0.9774\n",
            "Epoch 5/10\n",
            "60000/60000 [==============================] - 2s 36us/step - loss: 0.0239 - acc: 0.9923 - val_loss: 0.0624 - val_acc: 0.9806\n",
            "Epoch 6/10\n",
            "60000/60000 [==============================] - 2s 36us/step - loss: 0.0189 - acc: 0.9939 - val_loss: 0.0780 - val_acc: 0.9787\n",
            "Epoch 7/10\n",
            "60000/60000 [==============================] - 2s 36us/step - loss: 0.0119 - acc: 0.9962 - val_loss: 0.0651 - val_acc: 0.9811\n",
            "Epoch 8/10\n",
            "60000/60000 [==============================] - 2s 36us/step - loss: 0.0099 - acc: 0.9970 - val_loss: 0.0720 - val_acc: 0.9820\n",
            "Epoch 9/10\n",
            "60000/60000 [==============================] - 2s 36us/step - loss: 0.0114 - acc: 0.9963 - val_loss: 0.0716 - val_acc: 0.9824\n",
            "Epoch 10/10\n",
            "60000/60000 [==============================] - 2s 36us/step - loss: 0.0106 - acc: 0.9965 - val_loss: 0.0781 - val_acc: 0.9817\n",
            "Train on 60000 samples, validate on 10000 samples\n",
            "Epoch 1/10\n",
            "60000/60000 [==============================] - 3s 49us/step - loss: 0.2023 - acc: 0.9398 - val_loss: 0.1023 - val_acc: 0.9670\n",
            "Epoch 2/10\n",
            "60000/60000 [==============================] - 2s 36us/step - loss: 0.0771 - acc: 0.9763 - val_loss: 0.0794 - val_acc: 0.9739\n",
            "Epoch 3/10\n",
            "60000/60000 [==============================] - 2s 36us/step - loss: 0.0468 - acc: 0.9851 - val_loss: 0.0627 - val_acc: 0.9792\n",
            "Epoch 4/10\n",
            "60000/60000 [==============================] - 2s 36us/step - loss: 0.0307 - acc: 0.9903 - val_loss: 0.0651 - val_acc: 0.9800\n",
            "Epoch 5/10\n",
            "60000/60000 [==============================] - 2s 36us/step - loss: 0.0210 - acc: 0.9936 - val_loss: 0.0764 - val_acc: 0.9772\n",
            "Epoch 6/10\n",
            "60000/60000 [==============================] - 2s 36us/step - loss: 0.0157 - acc: 0.9952 - val_loss: 0.0580 - val_acc: 0.9840\n",
            "Epoch 7/10\n",
            "60000/60000 [==============================] - 2s 36us/step - loss: 0.0166 - acc: 0.9944 - val_loss: 0.0672 - val_acc: 0.9796\n",
            "Epoch 8/10\n",
            "60000/60000 [==============================] - 2s 36us/step - loss: 0.0107 - acc: 0.9966 - val_loss: 0.0765 - val_acc: 0.9800\n",
            "Epoch 9/10\n",
            "60000/60000 [==============================] - 2s 36us/step - loss: 0.0096 - acc: 0.9971 - val_loss: 0.0616 - val_acc: 0.9834\n",
            "Epoch 10/10\n",
            "60000/60000 [==============================] - 2s 36us/step - loss: 0.0114 - acc: 0.9964 - val_loss: 0.0846 - val_acc: 0.9807\n",
            "Train on 60000 samples, validate on 10000 samples\n",
            "Epoch 1/10\n",
            "60000/60000 [==============================] - 3s 50us/step - loss: 0.2014 - acc: 0.9399 - val_loss: 0.1001 - val_acc: 0.9702\n",
            "Epoch 2/10\n",
            "60000/60000 [==============================] - 2s 36us/step - loss: 0.0747 - acc: 0.9775 - val_loss: 0.0736 - val_acc: 0.9763\n",
            "Epoch 3/10\n",
            "60000/60000 [==============================] - 2s 36us/step - loss: 0.0459 - acc: 0.9851 - val_loss: 0.0642 - val_acc: 0.9803\n",
            "Epoch 4/10\n",
            "60000/60000 [==============================] - 2s 36us/step - loss: 0.0315 - acc: 0.9901 - val_loss: 0.0601 - val_acc: 0.9818\n",
            "Epoch 5/10\n",
            "60000/60000 [==============================] - 2s 36us/step - loss: 0.0220 - acc: 0.9928 - val_loss: 0.0750 - val_acc: 0.9775\n",
            "Epoch 6/10\n",
            "60000/60000 [==============================] - 2s 36us/step - loss: 0.0172 - acc: 0.9943 - val_loss: 0.0710 - val_acc: 0.9780\n",
            "Epoch 7/10\n",
            "60000/60000 [==============================] - 2s 36us/step - loss: 0.0138 - acc: 0.9956 - val_loss: 0.0633 - val_acc: 0.9818\n",
            "Epoch 8/10\n",
            "60000/60000 [==============================] - 2s 36us/step - loss: 0.0119 - acc: 0.9959 - val_loss: 0.0661 - val_acc: 0.9828\n",
            "Epoch 9/10\n",
            "60000/60000 [==============================] - 2s 36us/step - loss: 0.0110 - acc: 0.9964 - val_loss: 0.0738 - val_acc: 0.9802\n",
            "Epoch 10/10\n",
            "60000/60000 [==============================] - 2s 36us/step - loss: 0.0080 - acc: 0.9974 - val_loss: 0.0901 - val_acc: 0.9774\n",
            "Train on 60000 samples, validate on 10000 samples\n",
            "Epoch 1/10\n",
            "60000/60000 [==============================] - 3s 57us/step - loss: 0.2048 - acc: 0.9398 - val_loss: 0.1060 - val_acc: 0.9686\n",
            "Epoch 2/10\n",
            "60000/60000 [==============================] - 2s 41us/step - loss: 0.0755 - acc: 0.9768 - val_loss: 0.0865 - val_acc: 0.9725\n",
            "Epoch 3/10\n",
            "60000/60000 [==============================] - 2s 41us/step - loss: 0.0473 - acc: 0.9847 - val_loss: 0.0659 - val_acc: 0.9804\n",
            "Epoch 4/10\n",
            "60000/60000 [==============================] - 2s 41us/step - loss: 0.0306 - acc: 0.9905 - val_loss: 0.0583 - val_acc: 0.9819\n",
            "Epoch 5/10\n",
            "60000/60000 [==============================] - 2s 39us/step - loss: 0.0220 - acc: 0.9933 - val_loss: 0.0687 - val_acc: 0.9790\n",
            "Epoch 6/10\n",
            "60000/60000 [==============================] - 2s 36us/step - loss: 0.0166 - acc: 0.9946 - val_loss: 0.0731 - val_acc: 0.9792\n",
            "Epoch 7/10\n",
            "60000/60000 [==============================] - 2s 36us/step - loss: 0.0139 - acc: 0.9958 - val_loss: 0.0649 - val_acc: 0.9828\n",
            "Epoch 8/10\n",
            "60000/60000 [==============================] - 2s 36us/step - loss: 0.0105 - acc: 0.9967 - val_loss: 0.0737 - val_acc: 0.9804\n",
            "Epoch 9/10\n",
            "60000/60000 [==============================] - 2s 36us/step - loss: 0.0097 - acc: 0.9969 - val_loss: 0.0706 - val_acc: 0.9831\n",
            "Epoch 10/10\n",
            "60000/60000 [==============================] - 2s 36us/step - loss: 0.0112 - acc: 0.9962 - val_loss: 0.0819 - val_acc: 0.9781\n",
            "Train on 60000 samples, validate on 10000 samples\n",
            "Epoch 1/10\n",
            "60000/60000 [==============================] - 3s 51us/step - loss: 0.2028 - acc: 0.9397 - val_loss: 0.0940 - val_acc: 0.9714\n",
            "Epoch 2/10\n",
            "60000/60000 [==============================] - 2s 36us/step - loss: 0.0743 - acc: 0.9770 - val_loss: 0.0742 - val_acc: 0.9771\n",
            "Epoch 3/10\n",
            "60000/60000 [==============================] - 2s 36us/step - loss: 0.0457 - acc: 0.9860 - val_loss: 0.0642 - val_acc: 0.9791\n",
            "Epoch 4/10\n",
            "60000/60000 [==============================] - 2s 36us/step - loss: 0.0311 - acc: 0.9898 - val_loss: 0.0645 - val_acc: 0.9818\n",
            "Epoch 5/10\n",
            "60000/60000 [==============================] - 2s 36us/step - loss: 0.0234 - acc: 0.9926 - val_loss: 0.0656 - val_acc: 0.9811\n",
            "Epoch 6/10\n",
            "60000/60000 [==============================] - 2s 36us/step - loss: 0.0161 - acc: 0.9952 - val_loss: 0.0712 - val_acc: 0.9792\n",
            "Epoch 7/10\n",
            "60000/60000 [==============================] - 2s 36us/step - loss: 0.0152 - acc: 0.9951 - val_loss: 0.0596 - val_acc: 0.9822\n",
            "Epoch 8/10\n",
            "60000/60000 [==============================] - 2s 36us/step - loss: 0.0119 - acc: 0.9961 - val_loss: 0.0598 - val_acc: 0.9835\n",
            "Epoch 9/10\n",
            "60000/60000 [==============================] - 2s 36us/step - loss: 0.0088 - acc: 0.9973 - val_loss: 0.0974 - val_acc: 0.9748\n",
            "Epoch 10/10\n",
            "60000/60000 [==============================] - 2s 36us/step - loss: 0.0117 - acc: 0.9964 - val_loss: 0.0770 - val_acc: 0.9829\n"
          ],
          "name": "stdout"
        }
      ]
    },
    {
      "metadata": {
        "id": "6Km2mW34ECuk",
        "colab_type": "text"
      },
      "cell_type": "markdown",
      "source": [
        "# Ответы для формы"
      ]
    },
    {
      "metadata": {
        "id": "6rrnWDJBECul",
        "colab_type": "text"
      },
      "cell_type": "markdown",
      "source": [
        "Ответом для формы должно служить максимальное качество на тестовой выборке. Поскольку в keras результаты разнятся от запуска к запуску, правильный ответ будет засчитан как интервал"
      ]
    },
    {
      "metadata": {
        "id": "6EsYKu5NECum",
        "colab_type": "code",
        "colab": {
          "base_uri": "https://localhost:8080/",
          "height": 34
        },
        "outputId": "85439f82-59e3-4ca1-b1e1-a0785bd37f39"
      },
      "cell_type": "code",
      "source": [
        "max_results = max([max(result) for result in results])\n",
        "print('{:.4f}'.format(max_results))"
      ],
      "execution_count": 9,
      "outputs": [
        {
          "output_type": "stream",
          "text": [
            "0.9981\n"
          ],
          "name": "stdout"
        }
      ]
    },
    {
      "metadata": {
        "id": "jwj2isrqfsKI",
        "colab_type": "code",
        "colab": {}
      },
      "cell_type": "code",
      "source": [
        ""
      ],
      "execution_count": 0,
      "outputs": []
    }
  ]
}